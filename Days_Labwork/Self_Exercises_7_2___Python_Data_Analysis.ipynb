{
  "nbformat": 4,
  "nbformat_minor": 0,
  "metadata": {
    "colab": {
      "provenance": []
    },
    "kernelspec": {
      "name": "python3",
      "display_name": "Python 3"
    },
    "language_info": {
      "name": "python"
    }
  },
  "cells": [
    {
      "cell_type": "markdown",
      "source": [
        "## Combining DataFrames\n"
      ],
      "metadata": {
        "id": "i7T4LzfUlo58"
      }
    },
    {
      "cell_type": "markdown",
      "source": [
        "1. What is the difference between merging and concatenating DataFrames? Provide examples.\n",
        "2. How can you perform an inner join and an outer join on two DataFrames?\n",
        "3. Write a program to combine two DataFrames with overlapping columns."
      ],
      "metadata": {
        "id": "O9seJAOylyfa"
      }
    },
    {
      "cell_type": "markdown",
      "source": [
        "## Handling Missing Data\n"
      ],
      "metadata": {
        "id": "bhHyrumgl2PS"
      }
    },
    {
      "cell_type": "markdown",
      "source": [
        "4. How can you identify missing values in a Pandas DataFrame?\n",
        "5. Explain the difference between handling missing values using `fillna()` and `dropna()`.\n",
        "6. Write a Python program to replace all missing values in a DataFrame with the mean of their respective columns."
      ],
      "metadata": {
        "id": "p8QDVcNMl6QK"
      }
    },
    {
      "cell_type": "markdown",
      "source": [
        "## Descriptive Statistics\n"
      ],
      "metadata": {
        "id": "1GOK4I59l8kS"
      }
    },
    {
      "cell_type": "markdown",
      "source": [
        "7. What are descriptive statistics, and why are they important in data analysis?\n",
        "8. Explain how to calculate mean, median, mode, and standard deviation in a DataFrame.\n",
        "9. What is the purpose of the `.describe()` method in Pandas, and what information does it provide?\n",
        "10. Write a Python program to compute summary statistics for a given DataFrame."
      ],
      "metadata": {
        "id": "TC-d6o6Zl-IK"
      }
    }
  ]
}