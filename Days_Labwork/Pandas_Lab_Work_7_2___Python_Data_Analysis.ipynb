{
  "cells": [
    {
      "cell_type": "code",
      "execution_count": null,
      "metadata": {},
      "outputs": [],
      "source": []
    },
    {
      "cell_type": "markdown",
      "metadata": {
        "id": "6ou_N6pPj_ni"
      },
      "source": [
        "# Task 1: Combining DataFrames\n"
      ]
    },
    {
      "cell_type": "markdown",
      "metadata": {
        "id": "CcrlMQDwkDqR"
      },
      "source": [
        "1. Create two DataFrames, `df1` and `df2`, with overlapping columns but different data.\n",
        "   - Use the `concat` method to vertically stack them.\n",
        "   - Use the `merge` method to combine the DataFrames on a specific key column.\n",
        "   - Use the `join` method to combine them based on their index."
      ]
    },
    {
      "cell_type": "code",
      "execution_count": null,
      "metadata": {},
      "outputs": [
        {
          "name": "stdout",
          "output_type": "stream",
          "text": [
            "   name  age  id\n",
            "0     a   10   1\n",
            "1     b   20   2\n",
            "2     c   30   3\n",
            "3     d   40   4\n",
            "4     e   50   5\n",
            "5     f   60   6\n",
            "6     g   70   7\n",
            "7     a   10   1\n",
            "8     b   20   2\n",
            "9     c   30   3\n",
            "10    d   40   4\n",
            "11    e   50   5\n",
            "12    f   60   6\n",
            "13    g   70   7\n",
            "       name  age  id\n",
            "key1 0    a   10   1\n",
            "     1    b   20   2\n",
            "     2    c   30   3\n",
            "     3    d   40   4\n",
            "     4    e   50   5\n",
            "     5    f   60   6\n",
            "     6    g   70   7\n",
            "key2 0    a   10   1\n",
            "     1    b   20   2\n",
            "     2    c   30   3\n",
            "     3    d   40   4\n",
            "     4    e   50   5\n",
            "     5    f   60   6\n",
            "     6    g   70   7\n"
          ]
        }
      ],
      "source": [
        "#Concat\n",
        "\n",
        "import pandas as pd\n",
        "\n",
        "file=pd.read_csv('F:\\\\Github_Desktop\\\\PANDAS\\\\Days_Labwork\\\\datasets\\\\file1.csv')\n",
        "df1=pd.DataFrame(file)\n",
        "# print(df1.head(5).to_string())\n",
        "\n",
        "file2=pd.read_csv('F:\\\\Github_Desktop\\\\PANDAS\\\\Days_Labwork\\\\datasets\\\\Book1.csv')\n",
        "df2=pd.DataFrame(file2)\n",
        "# print(df2.head(5).to_string())\n",
        "\n",
        "# Concatenate DataFrames row-wise with aligned columns\n",
        "conc = pd.concat([df1, df2],ignore_index=True)\n",
        "print(conc.to_string())\n",
        "\n",
        "conc = pd.concat([df1, df2],keys=['key1','key2'])\n",
        "print(conc.to_string())"
      ]
    },
    {
      "cell_type": "code",
      "execution_count": null,
      "metadata": {},
      "outputs": [
        {
          "name": "stdout",
          "output_type": "stream",
          "text": [
            "  name  age_x  id_x  age_y  id_y\n",
            "0    a     10     1     10     1\n",
            "1    b     20     2     20     2\n",
            "2    c     30     3     30     3\n",
            "3    d     40     4     40     4\n",
            "4    e     50     5     50     5\n",
            "5    f     60     6     60     6\n",
            "6    g     70     7     70     7\n"
          ]
        }
      ],
      "source": [
        "# Merge\n",
        "\n",
        "import pandas as pd\n",
        "\n",
        "file=pd.read_csv('F:\\\\Github_Desktop\\\\PANDAS\\\\Days_Labwork\\\\datasets\\\\file1.csv')\n",
        "df1=pd.DataFrame(file)\n",
        "# print(df1.head(5).to_string())\n",
        "\n",
        "file2=pd.read_csv('F:\\\\Github_Desktop\\\\PANDAS\\\\Days_Labwork\\\\datasets\\\\Book1.csv')\n",
        "df2=pd.DataFrame(file2)\n",
        "# print(df2.head(5).to_string())\n",
        "\n",
        "mrg=pd.merge(df1,df2,on='name')\n",
        "print(mrg.to_string())\n"
      ]
    },
    {
      "cell_type": "code",
      "execution_count": 5,
      "metadata": {},
      "outputs": [
        {
          "name": "stdout",
          "output_type": "stream",
          "text": [
            "  name  age  id name  age  id\n",
            "0    a   10   1    a   10   1\n",
            "1    b   20   2    b   20   2\n",
            "2    c   30   3    c   30   3\n",
            "3    d   40   4    d   40   4\n",
            "4    e   50   5    e   50   5\n",
            "5    f   60   6    f   60   6\n",
            "6    g   70   7    g   70   7\n"
          ]
        }
      ],
      "source": [
        "#Join\n",
        "\n",
        "import pandas as pd\n",
        "\n",
        "file=pd.read_csv('F:\\\\Github_Desktop\\\\PANDAS\\\\Days_Labwork\\\\datasets\\\\file1.csv')\n",
        "df1=pd.DataFrame(file)\n",
        "# print(df1.head(5).to_string())\n",
        "\n",
        "file2=pd.read_csv('F:\\\\Github_Desktop\\\\PANDAS\\\\Days_Labwork\\\\datasets\\\\Book1.csv')\n",
        "df2=pd.DataFrame(file2)\n",
        "# print(df2.head(5).to_string())\n",
        "\n",
        "conc = pd.concat([df1, df2],axis=1,join='outer')\n",
        "print(conc.to_string())"
      ]
    },
    {
      "cell_type": "markdown",
      "metadata": {
        "id": "genm2YXOkFkZ"
      },
      "source": [
        "2. Create two DataFrames with non-overlapping columns and combine them:\n",
        "   - Horizontally stack them using `concat`.\n",
        "   - Perform an outer join on a specific key column."
      ]
    },
    {
      "cell_type": "code",
      "execution_count": null,
      "metadata": {},
      "outputs": [
        {
          "name": "stdout",
          "output_type": "stream",
          "text": [
            "   name  age  id\n",
            "0     a   10   1\n",
            "1     b   20   2\n",
            "2     c   30   3\n",
            "3     d   40   4\n",
            "4     e   50   5\n",
            "5     f   60   6\n",
            "6     g   70   7\n",
            "7     a   10   1\n",
            "8     b   20   2\n",
            "9     c   30   3\n",
            "10    d   40   4\n",
            "11    e   50   5\n",
            "12    f   60   6\n",
            "13    g   70   7\n",
            "       name  age  id\n",
            "key1 0    a   10   1\n",
            "     1    b   20   2\n",
            "     2    c   30   3\n",
            "     3    d   40   4\n",
            "     4    e   50   5\n",
            "     5    f   60   6\n",
            "     6    g   70   7\n",
            "key2 0    a   10   1\n",
            "     1    b   20   2\n",
            "     2    c   30   3\n",
            "     3    d   40   4\n",
            "     4    e   50   5\n",
            "     5    f   60   6\n",
            "     6    g   70   7\n"
          ]
        }
      ],
      "source": [
        "#Horizontal Concet\n",
        "import pandas as pd\n",
        "\n",
        "file=pd.read_csv('F:\\\\Github_Desktop\\\\PANDAS\\\\Days_Labwork\\\\datasets\\\\file1.csv')\n",
        "df1=pd.DataFrame(file)\n",
        "# print(df1.head(5).to_string())\n",
        "\n",
        "file2=pd.read_csv('F:\\\\Github_Desktop\\\\PANDAS\\\\Days_Labwork\\\\datasets\\\\Book1.csv')\n",
        "df2=pd.DataFrame(file2)\n",
        "# print(df2.head(5).to_string())\n",
        "\n",
        "# Concatenate DataFrames row-wise with aligned columns\n",
        "conc = pd.concat([df1, df2],ignore_index=True,axis=0)\n",
        "print(conc.to_string())\n",
        "\n",
        "conc = pd.concat([df1, df2],keys=['key1','key2'],axis=0)\n",
        "print(conc.to_string())"
      ]
    },
    {
      "cell_type": "code",
      "execution_count": null,
      "metadata": {},
      "outputs": [
        {
          "name": "stdout",
          "output_type": "stream",
          "text": [
            "   name  age  id\n",
            "0     a   10   1\n",
            "1     b   20   2\n",
            "2     c   30   3\n",
            "3     d   40   4\n",
            "4     e   50   5\n",
            "5     f   60   6\n",
            "6     g   70   7\n",
            "7     a   10   1\n",
            "8     b   20   2\n",
            "9     c   30   3\n",
            "10    d   40   4\n",
            "11    e   50   5\n",
            "12    f   60   6\n",
            "13    g   70   7\n"
          ]
        }
      ],
      "source": [
        "import pandas as pd\n",
        "\n",
        "file=pd.read_csv('F:\\\\Github_Desktop\\\\PANDAS\\\\Days_Labwork\\\\datasets\\\\file1.csv')\n",
        "df1=pd.DataFrame(file)\n",
        "# print(df1.head(5).to_string())\n",
        "\n",
        "file2=pd.read_csv('F:\\\\Github_Desktop\\\\PANDAS\\\\Days_Labwork\\\\datasets\\\\Book1.csv')\n",
        "df2=pd.DataFrame(file2)\n",
        "# print(df2.head(5).to_string())\n",
        "\n",
        "conc = pd.concat([df1, df2],axis=1,join='outer')\n",
        "print(conc.to_string())"
      ]
    },
    {
      "cell_type": "markdown",
      "metadata": {
        "id": "9p6RXXj8kGfS"
      },
      "source": [
        "3. Create a DataFrame and split it into multiple smaller DataFrames.\n",
        "   - Recombine the smaller DataFrames into a single one."
      ]
    },
    {
      "cell_type": "code",
      "execution_count": null,
      "metadata": {},
      "outputs": [
        {
          "name": "stdout",
          "output_type": "stream",
          "text": [
            "==============\n",
            "  name  age  id\n",
            "0    a   10   1\n",
            "1    b   20   2\n",
            "2    c   30   3\n",
            "3    d   40   4\n",
            "4    e   50   5\n",
            "5    f   60   6\n",
            "6    g   70   7\n",
            "==============\n",
            "0    a\n",
            "1    b\n",
            "2    c\n",
            "3    d\n",
            "4    e\n",
            "5    f\n",
            "6    g\n",
            "Name: name, dtype: object\n",
            "0    10\n",
            "1    20\n",
            "2    30\n",
            "3    40\n",
            "4    50\n",
            "5    60\n",
            "6    70\n",
            "Name: age, dtype: int64\n",
            "0    1\n",
            "1    2\n",
            "2    3\n",
            "3    4\n",
            "4    5\n",
            "5    6\n",
            "6    7\n",
            "Name: id, dtype: int64\n",
            "==============\n",
            "   0   1  2\n",
            "0  a  10  1\n",
            "1  b  20  2\n",
            "2  c  30  3\n",
            "3  d  40  4\n",
            "4  e  50  5\n",
            "5  f  60  6\n",
            "6  g  70  7\n"
          ]
        }
      ],
      "source": [
        "file=pd.read_csv('F:\\\\Github_Desktop\\\\PANDAS\\\\Days_Labwork\\\\datasets\\\\file1.csv')\n",
        "df1=pd.DataFrame(file)\n",
        "\n",
        "print(\"==============\")\n",
        "print(df1.to_string())\n",
        "\n",
        "print(\"==============\")\n",
        "\n",
        "d3=pd.Series(df1['name'])\n",
        "print(d3)\n",
        "d2=pd.Series(df1['age'])\n",
        "print(d2)\n",
        "d1=pd.Series(df1['id'])\n",
        "print(d1)\n",
        "\n",
        "print(\"==============\")\n",
        "\n",
        "conc = pd.concat([d3,d2,d1],ignore_index=True,axis=1)\n",
        "print(conc.to_string())"
      ]
    },
    {
      "cell_type": "markdown",
      "metadata": {
        "id": "_WG_RvBVkIcZ"
      },
      "source": [
        "# Task 2: Handling Missing Data\n"
      ]
    },
    {
      "cell_type": "markdown",
      "metadata": {
        "id": "UtC9tVxOkKpB"
      },
      "source": [
        "1. Create a DataFrame with some missing values (`NaN`). Perform the following operations:\n",
        "   - Fill missing values with a constant value.\n",
        "   - Use `forward fill` and `backward fill` methods.\n",
        "   - Replace missing values with the mean of the respective column."
      ]
    },
    {
      "cell_type": "code",
      "execution_count": null,
      "metadata": {},
      "outputs": [
        {
          "name": "stdout",
          "output_type": "stream",
          "text": [
            "       Country  Year      Status  Life expectancy   Adult Mortality  infant deaths  Alcohol  percentage expenditure  Hepatitis B  Measles    BMI   under-five deaths   Polio  Total expenditure  Diphtheria    HIV/AIDS         GDP  Population   thinness  1-19 years   thinness 5-9 years  Income composition of resources  Schooling\n",
            "0  Afghanistan  2015  Developing              65.0            263.0             62     0.01               71.279624         65.0      1154   19.1                  83    6.0               8.16         65.0        0.1  584.259210  33736494.0                   17.2                 17.3                            0.479       10.1\n",
            "1  Afghanistan  2014  Developing              59.9            271.0             64     0.01               73.523582         62.0       492   18.6                  86   58.0               8.18         62.0        0.1  612.696514    327582.0                   17.5                 17.5                            0.476       10.0\n",
            "2  Afghanistan  2013  Developing              59.9            268.0             66     0.01               73.219243         64.0       430   18.1                  89   62.0               8.13         64.0        0.1  631.744976  31731688.0                   17.7                 17.7                            0.470        9.9\n",
            "3  Afghanistan  2012  Developing              59.5            272.0             69     0.01               78.184215         67.0      2787   17.6                  93   67.0               8.52         67.0        0.1  669.959000   3696958.0                   17.9                 18.0                            0.463        9.8\n",
            "4  Afghanistan  2011  Developing              59.2            275.0             71     0.01                7.097109         68.0      3013   17.2                  97   68.0               7.87         68.0        0.1   63.537231   2978599.0                   18.2                 18.2                            0.454        9.5\n",
            "(2938, 22)\n",
            "Country                            False\n",
            "Year                               False\n",
            "Status                             False\n",
            "Life expectancy                    False\n",
            "Adult Mortality                    False\n",
            "infant deaths                      False\n",
            "Alcohol                            False\n",
            "percentage expenditure             False\n",
            "Hepatitis B                        False\n",
            "Measles                            False\n",
            " BMI                               False\n",
            "under-five deaths                  False\n",
            "Polio                              False\n",
            "Total expenditure                  False\n",
            "Diphtheria                         False\n",
            " HIV/AIDS                          False\n",
            "GDP                                False\n",
            "Population                         False\n",
            " thinness  1-19 years              False\n",
            " thinness 5-9 years                False\n",
            "Income composition of resources    False\n",
            "Schooling                          False\n",
            "dtype: bool\n",
            "(2938, 22)\n"
          ]
        }
      ],
      "source": [
        "import pandas as pd\n",
        "\n",
        "file=pd.read_csv('F:\\\\Github_Desktop\\\\PANDAS\\\\Days_Labwork\\\\datasets\\\\ndata.csv')\n",
        "df1=pd.DataFrame(file)\n",
        "print(df1.head().to_string())\n",
        "print(df1.shape)\n",
        "\n",
        "df1_filled_constant = df1.fillna(0,inplace=True)\n",
        "\n",
        "df1_filled_ffill = df1.fillna(method='ffill',inplace=True)\n",
        "df1_filled_bfill = df1.fillna(method='bfill',inplace=True)\n",
        "\n",
        "df1_filled_mean = df1.fillna(df1.mean(numeric_only=True),inplace=True)\n",
        "\n",
        "print(df1.isnull().any())\n",
        "print(df1.shape)\n"
      ]
    },
    {
      "cell_type": "markdown",
      "metadata": {
        "id": "71_kPznYkMKG"
      },
      "source": [
        "2. Identify and drop rows or columns with missing data:\n",
        "   - Drop rows with any missing values.\n",
        "   - Drop columns with all missing values."
      ]
    },
    {
      "cell_type": "code",
      "execution_count": 47,
      "metadata": {},
      "outputs": [
        {
          "name": "stdout",
          "output_type": "stream",
          "text": [
            "Country                            False\n",
            "Year                               False\n",
            "Status                             False\n",
            "Life expectancy                    False\n",
            "Adult Mortality                    False\n",
            "infant deaths                      False\n",
            "Alcohol                            False\n",
            "percentage expenditure             False\n",
            "Hepatitis B                        False\n",
            "Measles                            False\n",
            " BMI                               False\n",
            "under-five deaths                  False\n",
            "Polio                              False\n",
            "Total expenditure                  False\n",
            "Diphtheria                         False\n",
            " HIV/AIDS                          False\n",
            "GDP                                False\n",
            "Population                         False\n",
            " thinness  1-19 years              False\n",
            " thinness 5-9 years                False\n",
            "Income composition of resources    False\n",
            "Schooling                          False\n",
            "dtype: bool\n",
            "(0, 22)\n",
            "Series([], dtype: bool)\n",
            "(0, 0)\n"
          ]
        }
      ],
      "source": [
        "import pandas as pd\n",
        "\n",
        "file=pd.read_csv('F:\\\\Github_Desktop\\\\PANDAS\\\\Days_Labwork\\\\datasets\\\\ndata.csv')\n",
        "df1=pd.DataFrame(file)\n",
        "\n",
        "\n",
        "droprow= df1.drop(df1.index,axis=0,inplace=True)\n",
        "print(df1.isnull().any())\n",
        "print(df1.shape)\n",
        "\n",
        "dropcol= df1.drop(df1.columns,axis=1,inplace=True)\n",
        "print(df1.isnull().any())\n",
        "print(df1.shape)"
      ]
    },
    {
      "cell_type": "markdown",
      "metadata": {
        "id": "kr5SnAoRkNtR"
      },
      "source": [
        "3. Create a DataFrame and detect missing data using the `isnull()` and `notnull()` methods.\n",
        "   - Count the number of missing values in each column."
      ]
    },
    {
      "cell_type": "code",
      "execution_count": 63,
      "metadata": {},
      "outputs": [
        {
          "name": "stdout",
          "output_type": "stream",
          "text": [
            "Count:\n",
            " Country                              0\n",
            "Year                                 0\n",
            "Status                               0\n",
            "Life expectancy                     10\n",
            "Adult Mortality                     10\n",
            "infant deaths                        0\n",
            "Alcohol                            194\n",
            "percentage expenditure               0\n",
            "Hepatitis B                        553\n",
            "Measles                              0\n",
            " BMI                                34\n",
            "under-five deaths                    0\n",
            "Polio                               19\n",
            "Total expenditure                  226\n",
            "Diphtheria                          19\n",
            " HIV/AIDS                            0\n",
            "GDP                                448\n",
            "Population                         652\n",
            " thinness  1-19 years               34\n",
            " thinness 5-9 years                 34\n",
            "Income composition of resources    167\n",
            "Schooling                          163\n",
            "dtype: int64\n"
          ]
        }
      ],
      "source": [
        "import pandas as pd\n",
        "\n",
        "file=pd.read_csv('F:\\\\Github_Desktop\\\\PANDAS\\\\Days_Labwork\\\\datasets\\\\ndata.csv')\n",
        "df1=pd.DataFrame(file)\n",
        "\n",
        "# print(\"Missing values isnull:\",df1.isnull().to_string())\n",
        "# print(\"Missing values isnull:\",df1.notnull().to_string())\n",
        "\n",
        "print(\"Count:\\n\",df1.isnull().sum())\n"
      ]
    },
    {
      "cell_type": "markdown",
      "metadata": {
        "id": "QOHDEO6NkPYS"
      },
      "source": [
        "4. Perform an interpolation operation to handle missing data in a DataFrame with numerical values.\n"
      ]
    },
    {
      "cell_type": "code",
      "execution_count": 69,
      "metadata": {},
      "outputs": [
        {
          "name": "stdout",
          "output_type": "stream",
          "text": [
            "after interpolation: None\n",
            "Count:\n",
            " Country                            0\n",
            "Year                               0\n",
            "Status                             0\n",
            "Life expectancy                    0\n",
            "Adult Mortality                    0\n",
            "infant deaths                      0\n",
            "Alcohol                            0\n",
            "percentage expenditure             0\n",
            "Hepatitis B                        0\n",
            "Measles                            0\n",
            " BMI                               0\n",
            "under-five deaths                  0\n",
            "Polio                              0\n",
            "Total expenditure                  0\n",
            "Diphtheria                         0\n",
            " HIV/AIDS                          0\n",
            "GDP                                0\n",
            "Population                         0\n",
            " thinness  1-19 years              0\n",
            " thinness 5-9 years                0\n",
            "Income composition of resources    0\n",
            "Schooling                          0\n",
            "dtype: int64\n"
          ]
        },
        {
          "name": "stderr",
          "output_type": "stream",
          "text": [
            "C:\\Users\\HP\\AppData\\Local\\Temp\\ipykernel_15088\\1934045381.py:6: FutureWarning: DataFrame.interpolate with object dtype is deprecated and will raise in a future version. Call obj.infer_objects(copy=False) before interpolating instead.\n",
            "  print(\"after interpolation:\",df1.interpolate(inplace=True))\n"
          ]
        }
      ],
      "source": [
        "import pandas as pd\n",
        "\n",
        "file=pd.read_csv('F:\\\\Github_Desktop\\\\PANDAS\\\\Days_Labwork\\\\datasets\\\\ndata.csv')\n",
        "df1=pd.DataFrame(file)\n",
        "\n",
        "print(\"after interpolation:\",df1.interpolate(inplace=True))\n",
        "print(\"Count:\\n\",df1.isnull().sum())"
      ]
    },
    {
      "cell_type": "markdown",
      "metadata": {
        "id": "_19eRdxOkRSZ"
      },
      "source": [
        "# Task 3: Descriptive Statistics\n"
      ]
    },
    {
      "cell_type": "markdown",
      "metadata": {
        "id": "8TKubpfAkTep"
      },
      "source": [
        "1. Create a DataFrame with numerical and categorical data:\n",
        "   - Calculate the mean, median, mode, and standard deviation of numerical columns.\n",
        "   - Count the frequency of unique values in categorical columns."
      ]
    },
    {
      "cell_type": "code",
      "execution_count": null,
      "metadata": {},
      "outputs": [
        {
          "name": "stdout",
          "output_type": "stream",
          "text": [
            "\n",
            "Value counts for categorical columns:\n",
            "\n",
            "Country:\n",
            " Country\n",
            "Afghanistan              16\n",
            "Albania                  16\n",
            "Algeria                  16\n",
            "Angola                   16\n",
            "Antigua and Barbuda      16\n",
            "                         ..\n",
            "Monaco                    1\n",
            "Marshall Islands          1\n",
            "Saint Kitts and Nevis     1\n",
            "San Marino                1\n",
            "Tuvalu                    1\n",
            "Name: count, Length: 193, dtype: int64\n",
            "\n",
            "Status:\n",
            " Status\n",
            "Developing    2426\n",
            "Developed      512\n",
            "Name: count, dtype: int64\n"
          ]
        }
      ],
      "source": [
        "file=pd.read_csv('F:\\\\Github_Desktop\\\\PANDAS\\\\Days_Labwork\\\\datasets\\\\ndata.csv')\n",
        "df=pd.DataFrame(file)\n",
        "\n",
        "# print(\"\\nMean of numerical columns:\\n\", df.mean(numeric_only=True))\n",
        "# print(\"\\nMedian of numerical columns:\\n\", df.median(numeric_only=True))\n",
        "# print(\"\\nMode of numerical columns:\\n\", df.mode().iloc[0])\n",
        "# print(\"\\nStandard Deviation of numerical columns:\\n\", df.std(numeric_only=True))\n",
        "\n",
        "print(\"\\nValue counts for categorical columns:\")\n",
        "for col in df.select_dtypes(include=['object']):\n",
        "    print(f\"\\n{col}:\\n\", df[col].value_counts())"
      ]
    },
    {
      "cell_type": "markdown",
      "metadata": {
        "id": "XGFLeDPpkU_x"
      },
      "source": [
        "2. Create a DataFrame representing a dataset of exam scores for different subjects.\n",
        "   - Find the minimum, maximum, and range of scores for each subject.\n",
        "   - Identify the student(s) with the highest and lowest total scores."
      ]
    },
    {
      "cell_type": "code",
      "execution_count": 73,
      "metadata": {},
      "outputs": [
        {
          "name": "stdout",
          "output_type": "stream",
          "text": [
            "Exam Scores DataFrame:\n",
            "    Student  Math  Science  English  History\n",
            "0    Alice    85       92       78       88\n",
            "1      Bob    90       85       82       75\n",
            "2  Charlie    78       88       85       85\n",
            "3    David    88       76       80       92\n",
            "4      Eva    95       89       90       79\n",
            "\n",
            "Minimum scores for each subject:\n",
            " Math       78\n",
            "Science    76\n",
            "English    78\n",
            "History    75\n",
            "dtype: int64\n",
            "\n",
            "Maximum scores for each subject:\n",
            " Math       95\n",
            "Science    92\n",
            "English    90\n",
            "History    92\n",
            "dtype: int64\n",
            "\n",
            "Range of scores for each subject:\n",
            " Math       17\n",
            "Science    16\n",
            "English    12\n",
            "History    17\n",
            "dtype: int64\n",
            "\n",
            "Student(s) with the highest total score: ['Eva'] with score: 353\n",
            "Student(s) with the lowest total score: ['Bob'] with score: 332\n"
          ]
        }
      ],
      "source": [
        "import pandas as pd\n",
        "\n",
        "# Create a DataFrame with exam scores\n",
        "data = {\n",
        "    'Student': ['Alice', 'Bob', 'Charlie', 'David', 'Eva'],\n",
        "    'Math': [85, 90, 78, 88, 95],\n",
        "    'Science': [92, 85, 88, 76, 89],\n",
        "    'English': [78, 82, 85, 80, 90],\n",
        "    'History': [88, 75, 85, 92, 79]\n",
        "}\n",
        "\n",
        "df = pd.DataFrame(data)\n",
        "\n",
        "# Display DataFrame\n",
        "print(\"Exam Scores DataFrame:\\n\", df)\n",
        "\n",
        "# ---- Find Min, Max, and Range of Scores ----\n",
        "print(\"\\nMinimum scores for each subject:\\n\", df.iloc[:, 1:].min())  # Excluding 'Student' column\n",
        "print(\"\\nMaximum scores for each subject:\\n\", df.iloc[:, 1:].max())  \n",
        "print(\"\\nRange of scores for each subject:\\n\", df.iloc[:, 1:].max() - df.iloc[:, 1:].min())\n",
        "\n",
        "# ---- Find Total Scores for Each Student ----\n",
        "df['Total Score'] = df.iloc[:, 1:].sum(axis=1)  # Sum of all subject scores\n",
        "\n",
        "# Identify Student(s) with Highest and Lowest Total Scores\n",
        "highest_score = df['Total Score'].max()\n",
        "lowest_score = df['Total Score'].min()\n",
        "\n",
        "students_highest = df[df['Total Score'] == highest_score]['Student'].tolist()\n",
        "students_lowest = df[df['Total Score'] == lowest_score]['Student'].tolist()\n",
        "\n",
        "print(\"\\nStudent(s) with the highest total score:\", students_highest, \"with score:\", highest_score)\n",
        "print(\"Student(s) with the lowest total score:\", students_lowest, \"with score:\", lowest_score)\n"
      ]
    },
    {
      "cell_type": "markdown",
      "metadata": {
        "id": "1W84VlD7kWns"
      },
      "source": [
        "3. Create a DataFrame with multiple groups of data (e.g., sales data for different regions):\n",
        "   - Group the data by a specific column and calculate descriptive statistics (e.g., `mean`, `sum`, `std`) for each group.\n",
        "   - Visualize summary statistics using a bar chart."
      ]
    },
    {
      "cell_type": "code",
      "execution_count": 74,
      "metadata": {},
      "outputs": [
        {
          "name": "stdout",
          "output_type": "stream",
          "text": [
            "Sales DataFrame:\n",
            "   Region Salesperson  Sales  Profit\n",
            "0  North       Alice  20000    5000\n",
            "1  South         Bob  25000    7000\n",
            "2   East     Charlie  18000    4000\n",
            "3   West       David  22000    6000\n",
            "4  North         Eva  27000    8000\n",
            "5  South       Frank  30000    9000\n",
            "6   East       Grace  21000    4500\n",
            "7   West      Hannah  26000    7500\n",
            "8  North         Ian  23000    6500\n",
            "9  South        Jack  28000    8500\n",
            "\n",
            "Descriptive Statistics for Each Region:\n",
            "                Sales                           Profit                    \n",
            "                mean    sum          std         mean    sum          std\n",
            "Region                                                                   \n",
            "East    19500.000000  39000  2121.320344  4250.000000   8500   353.553391\n",
            "North   23333.333333  70000  3511.884584  6500.000000  19500  1500.000000\n",
            "South   27666.666667  83000  2516.611478  8166.666667  24500  1040.833000\n",
            "West    24000.000000  48000  2828.427125  6750.000000  13500  1060.660172\n"
          ]
        },
        {
          "data": {
            "image/png": "[encoded data removed]",
            "text/plain": [
              "<Figure size 800x500 with 1 Axes>"
            ]
          },
          "metadata": {},
          "output_type": "display_data"
        }
      ],
      "source": [
        "import pandas as pd\n",
        "import numpy as np\n",
        "import matplotlib.pyplot as plt\n",
        "\n",
        "# Create a sample DataFrame with sales data for different regions\n",
        "data = {\n",
        "    'Region': ['North', 'South', 'East', 'West', 'North', 'South', 'East', 'West', 'North', 'South'],\n",
        "    'Salesperson': ['Alice', 'Bob', 'Charlie', 'David', 'Eva', 'Frank', 'Grace', 'Hannah', 'Ian', 'Jack'],\n",
        "    'Sales': [20000, 25000, 18000, 22000, 27000, 30000, 21000, 26000, 23000, 28000],\n",
        "    'Profit': [5000, 7000, 4000, 6000, 8000, 9000, 4500, 7500, 6500, 8500]\n",
        "}\n",
        "\n",
        "df = pd.DataFrame(data)\n",
        "\n",
        "# Display DataFrame\n",
        "print(\"Sales DataFrame:\\n\", df)\n",
        "\n",
        "# ---- Group by 'Region' and Compute Descriptive Statistics ----\n",
        "grouped = df.groupby('Region').agg({\n",
        "    'Sales': ['mean', 'sum', 'std'],\n",
        "    'Profit': ['mean', 'sum', 'std']\n",
        "})\n",
        "\n",
        "print(\"\\nDescriptive Statistics for Each Region:\\n\", grouped)\n",
        "\n",
        "# ---- Visualization: Bar Chart of Total Sales by Region ----\n",
        "plt.figure(figsize=(8, 5))\n",
        "grouped['Sales', 'sum'].plot(kind='bar', color=['blue', 'green', 'red', 'purple'])\n",
        "\n",
        "plt.title(\"Total Sales by Region\")\n",
        "plt.xlabel(\"Region\")\n",
        "plt.ylabel(\"Total Sales ($)\")\n",
        "plt.xticks(rotation=0)\n",
        "plt.grid(axis='y', linestyle='--', alpha=0.7)\n",
        "\n",
        "# Show the plot\n",
        "plt.show()\n"
      ]
    },
    {
      "cell_type": "markdown",
      "metadata": {
        "id": "e099rQrBkX_x"
      },
      "source": [
        "4. Use the `describe()` method on a DataFrame to generate descriptive statistics:\n",
        "   - Analyze the output and write observations on key metrics."
      ]
    },
    {
      "cell_type": "code",
      "execution_count": 76,
      "metadata": {},
      "outputs": [
        {
          "name": "stdout",
          "output_type": "stream",
          "text": [
            "              Year  Life expectancy   Adult Mortality  infant deaths      Alcohol  percentage expenditure  Hepatitis B      Measles          BMI   under-five deaths         Polio  Total expenditure  Diphtheria      HIV/AIDS           GDP    Population   thinness  1-19 years   thinness 5-9 years  Income composition of resources    Schooling\n",
            "count  2938.000000       2928.000000      2928.000000    2938.000000  2744.000000             2938.000000  2385.000000   2938.000000  2904.000000         2938.000000  2919.000000         2712.00000  2919.000000  2938.000000   2490.000000  2.286000e+03            2904.000000          2904.000000                      2771.000000  2775.000000\n",
            "mean   2007.518720         69.224932       164.796448      30.303948     4.602861              738.251295    80.940461   2419.592240    38.321247           42.035739    82.550188            5.93819    82.324084     1.742103   7483.158469  1.275338e+07               4.839704             4.870317                         0.627551    11.992793\n",
            "std       4.613841          9.523867       124.292079     117.926501     4.052413             1987.914858    25.070016  11467.272489    20.044034          160.445548    23.428046            2.49832    23.716912     5.077785  14270.169342  6.101210e+07               4.420195             4.508882                         0.210904     3.358920\n",
            "min    2000.000000         36.300000         1.000000       0.000000     0.010000                0.000000     1.000000      0.000000     1.000000            0.000000     3.000000            0.37000     2.000000     0.100000      1.681350  3.400000e+01               0.100000             0.100000                         0.000000     0.000000\n",
            "25%    2004.000000         63.100000        74.000000       0.000000     0.877500                4.685343    77.000000      0.000000    19.300000            0.000000    78.000000            4.26000    78.000000     0.100000    463.935626  1.957932e+05               1.600000             1.500000                         0.493000    10.100000\n"
          ]
        }
      ],
      "source": [
        "file=pd.read_csv('F:\\\\Github_Desktop\\\\PANDAS\\\\Days_Labwork\\\\datasets\\\\ndata.csv')\n",
        "df=pd.DataFrame(file)\n",
        "\n",
        "print(df.describe().head(5).to_string())"
      ]
    },
    {
      "cell_type": "markdown",
      "metadata": {
        "id": "eLfq-C_WkZ_p"
      },
      "source": [
        "# Additional Challenges\n"
      ]
    },
    {
      "cell_type": "markdown",
      "metadata": {
        "id": "nkJyLLizkbgD"
      },
      "source": [
        "1. Combine DataFrames with mismatched data:\n",
        "   - Resolve alignment issues by specifying `how` parameter in merging."
      ]
    },
    {
      "cell_type": "code",
      "execution_count": 77,
      "metadata": {},
      "outputs": [
        {
          "name": "stdout",
          "output_type": "stream",
          "text": [
            "\n",
            "🔹 INNER JOIN (Only common IDs):\n",
            "    ID     Name  Sales Region  Profit\n",
            "0   3  Charlie  18000   East    4000\n",
            "1   4    David  22000   West    6000\n",
            "\n",
            "🔹 LEFT JOIN (All df1 records, matching df2 records):\n",
            "    ID     Name  Sales Region  Profit\n",
            "0   1    Alice  20000    NaN     NaN\n",
            "1   2      Bob  25000    NaN     NaN\n",
            "2   3  Charlie  18000   East  4000.0\n",
            "3   4    David  22000   West  6000.0\n",
            "\n",
            "🔹 RIGHT JOIN (All df2 records, matching df1 records):\n",
            "    ID     Name    Sales Region  Profit\n",
            "0   3  Charlie  18000.0   East    4000\n",
            "1   4    David  22000.0   West    6000\n",
            "2   5      NaN      NaN  North    8000\n",
            "3   6      NaN      NaN  South    9000\n",
            "\n",
            "🔹 OUTER JOIN (All records, NaN where no match):\n",
            "    ID     Name    Sales Region  Profit\n",
            "0   1    Alice  20000.0    NaN     NaN\n",
            "1   2      Bob  25000.0    NaN     NaN\n",
            "2   3  Charlie  18000.0   East  4000.0\n",
            "3   4    David  22000.0   West  6000.0\n",
            "4   5      NaN      NaN  North  8000.0\n",
            "5   6      NaN      NaN  South  9000.0\n"
          ]
        }
      ],
      "source": [
        "import pandas as pd\n",
        "\n",
        "# Create two DataFrames with mismatched data\n",
        "df1 = pd.DataFrame({\n",
        "    'ID': [1, 2, 3, 4],\n",
        "    'Name': ['Alice', 'Bob', 'Charlie', 'David'],\n",
        "    'Sales': [20000, 25000, 18000, 22000]\n",
        "})\n",
        "\n",
        "df2 = pd.DataFrame({\n",
        "    'ID': [3, 4, 5, 6],\n",
        "    'Region': ['East', 'West', 'North', 'South'],\n",
        "    'Profit': [4000, 6000, 8000, 9000]\n",
        "})\n",
        "\n",
        "# ---- Different Ways to Merge ----\n",
        "\n",
        "# 1. INNER JOIN (Only common IDs)\n",
        "df_inner = pd.merge(df1, df2, on='ID', how='inner')\n",
        "\n",
        "# 2. LEFT JOIN (All records from df1, matching records from df2)\n",
        "df_left = pd.merge(df1, df2, on='ID', how='left')\n",
        "\n",
        "# 3. RIGHT JOIN (All records from df2, matching records from df1)\n",
        "df_right = pd.merge(df1, df2, on='ID', how='right')\n",
        "\n",
        "# 4. OUTER JOIN (All records from both, NaN where no match)\n",
        "df_outer = pd.merge(df1, df2, on='ID', how='outer')\n",
        "\n",
        "# ---- Display Results ----\n",
        "print(\"\\n🔹 INNER JOIN (Only common IDs):\\n\", df_inner)\n",
        "print(\"\\n🔹 LEFT JOIN (All df1 records, matching df2 records):\\n\", df_left)\n",
        "print(\"\\n🔹 RIGHT JOIN (All df2 records, matching df1 records):\\n\", df_right)\n",
        "print(\"\\n🔹 OUTER JOIN (All records, NaN where no match):\\n\", df_outer)\n"
      ]
    },
    {
      "cell_type": "markdown",
      "metadata": {
        "id": "Vwyl1c_Nkc_6"
      },
      "source": [
        "2. Generate a DataFrame with deliberate missing values and evaluate:\n",
        "   - Impact of different imputation strategies (mean, median, mode)."
      ]
    },
    {
      "cell_type": "code",
      "execution_count": 78,
      "metadata": {},
      "outputs": [
        {
          "name": "stdout",
          "output_type": "stream",
          "text": [
            "\n",
            "🔹 Original DataFrame with Missing Values:\n",
            "    ID   Age   Salary Department\n",
            "0   1  25.0  50000.0         HR\n",
            "1   2  30.0  60000.0    Finance\n",
            "2   3   NaN  55000.0         IT\n",
            "3   4  40.0      NaN         HR\n",
            "4   5  35.0  65000.0    Finance\n",
            "5   6   NaN  70000.0         IT\n",
            "6   7  50.0  62000.0        NaN\n",
            "7   8  45.0      NaN         HR\n",
            "\n",
            "🔹 Mean Imputation:\n",
            "    ID   Age        Salary Department\n",
            "0   1  25.0  50000.000000         HR\n",
            "1   2  30.0  60000.000000    Finance\n",
            "2   3  37.5  55000.000000         IT\n",
            "3   4  40.0  60333.333333         HR\n",
            "4   5  35.0  65000.000000    Finance\n",
            "5   6  37.5  70000.000000         IT\n",
            "6   7  50.0  62000.000000        NaN\n",
            "7   8  45.0  60333.333333         HR\n",
            "\n",
            "🔹 Median Imputation:\n",
            "    ID   Age   Salary Department\n",
            "0   1  25.0  50000.0         HR\n",
            "1   2  30.0  60000.0    Finance\n",
            "2   3  37.5  55000.0         IT\n",
            "3   4  40.0  61000.0         HR\n",
            "4   5  35.0  65000.0    Finance\n",
            "5   6  37.5  70000.0         IT\n",
            "6   7  50.0  62000.0        NaN\n",
            "7   8  45.0  61000.0         HR\n",
            "\n",
            "🔹 Mode Imputation:\n",
            "    ID   Age   Salary Department\n",
            "0   1  25.0  50000.0         HR\n",
            "1   2  30.0  60000.0    Finance\n",
            "2   3  25.0  55000.0         IT\n",
            "3   4  40.0  50000.0         HR\n",
            "4   5  35.0  65000.0    Finance\n",
            "5   6  25.0  70000.0         IT\n",
            "6   7  50.0  62000.0         HR\n",
            "7   8  45.0  50000.0         HR\n"
          ]
        },
        {
          "name": "stderr",
          "output_type": "stream",
          "text": [
            "C:\\Users\\HP\\AppData\\Local\\Temp\\ipykernel_15088\\171163112.py:20: FutureWarning: A value is trying to be set on a copy of a DataFrame or Series through chained assignment using an inplace method.\n",
            "The behavior will change in pandas 3.0. This inplace method will never work because the intermediate object on which we are setting values always behaves as a copy.\n",
            "\n",
            "For example, when doing 'df[col].method(value, inplace=True)', try using 'df.method({col: value}, inplace=True)' or df[col] = df[col].method(value) instead, to perform the operation inplace on the original object.\n",
            "\n",
            "\n",
            "  df_mean['Age'].fillna(df_mean['Age'].mean(), inplace=True)\n",
            "C:\\Users\\HP\\AppData\\Local\\Temp\\ipykernel_15088\\171163112.py:21: FutureWarning: A value is trying to be set on a copy of a DataFrame or Series through chained assignment using an inplace method.\n",
            "The behavior will change in pandas 3.0. This inplace method will never work because the intermediate object on which we are setting values always behaves as a copy.\n",
            "\n",
            "For example, when doing 'df[col].method(value, inplace=True)', try using 'df.method({col: value}, inplace=True)' or df[col] = df[col].method(value) instead, to perform the operation inplace on the original object.\n",
            "\n",
            "\n",
            "  df_mean['Salary'].fillna(df_mean['Salary'].mean(), inplace=True)\n",
            "C:\\Users\\HP\\AppData\\Local\\Temp\\ipykernel_15088\\171163112.py:25: FutureWarning: A value is trying to be set on a copy of a DataFrame or Series through chained assignment using an inplace method.\n",
            "The behavior will change in pandas 3.0. This inplace method will never work because the intermediate object on which we are setting values always behaves as a copy.\n",
            "\n",
            "For example, when doing 'df[col].method(value, inplace=True)', try using 'df.method({col: value}, inplace=True)' or df[col] = df[col].method(value) instead, to perform the operation inplace on the original object.\n",
            "\n",
            "\n",
            "  df_median['Age'].fillna(df_median['Age'].median(), inplace=True)\n",
            "C:\\Users\\HP\\AppData\\Local\\Temp\\ipykernel_15088\\171163112.py:26: FutureWarning: A value is trying to be set on a copy of a DataFrame or Series through chained assignment using an inplace method.\n",
            "The behavior will change in pandas 3.0. This inplace method will never work because the intermediate object on which we are setting values always behaves as a copy.\n",
            "\n",
            "For example, when doing 'df[col].method(value, inplace=True)', try using 'df.method({col: value}, inplace=True)' or df[col] = df[col].method(value) instead, to perform the operation inplace on the original object.\n",
            "\n",
            "\n",
            "  df_median['Salary'].fillna(df_median['Salary'].median(), inplace=True)\n",
            "C:\\Users\\HP\\AppData\\Local\\Temp\\ipykernel_15088\\171163112.py:30: FutureWarning: A value is trying to be set on a copy of a DataFrame or Series through chained assignment using an inplace method.\n",
            "The behavior will change in pandas 3.0. This inplace method will never work because the intermediate object on which we are setting values always behaves as a copy.\n",
            "\n",
            "For example, when doing 'df[col].method(value, inplace=True)', try using 'df.method({col: value}, inplace=True)' or df[col] = df[col].method(value) instead, to perform the operation inplace on the original object.\n",
            "\n",
            "\n",
            "  df_mode['Age'].fillna(df_mode['Age'].mode()[0], inplace=True)\n",
            "C:\\Users\\HP\\AppData\\Local\\Temp\\ipykernel_15088\\171163112.py:31: FutureWarning: A value is trying to be set on a copy of a DataFrame or Series through chained assignment using an inplace method.\n",
            "The behavior will change in pandas 3.0. This inplace method will never work because the intermediate object on which we are setting values always behaves as a copy.\n",
            "\n",
            "For example, when doing 'df[col].method(value, inplace=True)', try using 'df.method({col: value}, inplace=True)' or df[col] = df[col].method(value) instead, to perform the operation inplace on the original object.\n",
            "\n",
            "\n",
            "  df_mode['Salary'].fillna(df_mode['Salary'].mode()[0], inplace=True)\n",
            "C:\\Users\\HP\\AppData\\Local\\Temp\\ipykernel_15088\\171163112.py:32: FutureWarning: A value is trying to be set on a copy of a DataFrame or Series through chained assignment using an inplace method.\n",
            "The behavior will change in pandas 3.0. This inplace method will never work because the intermediate object on which we are setting values always behaves as a copy.\n",
            "\n",
            "For example, when doing 'df[col].method(value, inplace=True)', try using 'df.method({col: value}, inplace=True)' or df[col] = df[col].method(value) instead, to perform the operation inplace on the original object.\n",
            "\n",
            "\n",
            "  df_mode['Department'].fillna(df_mode['Department'].mode()[0], inplace=True)\n"
          ]
        }
      ],
      "source": [
        "import pandas as pd\n",
        "import numpy as np\n",
        "\n",
        "# ---- Create a DataFrame with missing values ----\n",
        "data = {\n",
        "    'ID': [1, 2, 3, 4, 5, 6, 7, 8],\n",
        "    'Age': [25, 30, np.nan, 40, 35, np.nan, 50, 45],  # Missing values\n",
        "    'Salary': [50000, 60000, 55000, np.nan, 65000, 70000, 62000, np.nan],  # Missing values\n",
        "    'Department': ['HR', 'Finance', 'IT', 'HR', 'Finance', 'IT', np.nan, 'HR']  # Missing categorical\n",
        "}\n",
        "\n",
        "df = pd.DataFrame(data)\n",
        "\n",
        "# Display the original DataFrame\n",
        "print(\"\\n🔹 Original DataFrame with Missing Values:\\n\", df)\n",
        "\n",
        "# ---- Imputation Strategies ----\n",
        "# 1. Fill missing values with Mean\n",
        "df_mean = df.copy()\n",
        "df_mean['Age'].fillna(df_mean['Age'].mean(), inplace=True)\n",
        "df_mean['Salary'].fillna(df_mean['Salary'].mean(), inplace=True)\n",
        "\n",
        "# 2. Fill missing values with Median\n",
        "df_median = df.copy()\n",
        "df_median['Age'].fillna(df_median['Age'].median(), inplace=True)\n",
        "df_median['Salary'].fillna(df_median['Salary'].median(), inplace=True)\n",
        "\n",
        "# 3. Fill missing values with Mode (Most Frequent Value)\n",
        "df_mode = df.copy()\n",
        "df_mode['Age'].fillna(df_mode['Age'].mode()[0], inplace=True)\n",
        "df_mode['Salary'].fillna(df_mode['Salary'].mode()[0], inplace=True)\n",
        "df_mode['Department'].fillna(df_mode['Department'].mode()[0], inplace=True)\n",
        "\n",
        "# ---- Display Results ----\n",
        "print(\"\\n🔹 Mean Imputation:\\n\", df_mean)\n",
        "print(\"\\n🔹 Median Imputation:\\n\", df_median)\n",
        "print(\"\\n🔹 Mode Imputation:\\n\", df_mode)\n",
        "\n"
      ]
    },
    {
      "cell_type": "markdown",
      "metadata": {
        "id": "PQ5NzeKDkekx"
      },
      "source": [
        "3. Compare descriptive statistics before and after handling missing data in a dataset."
      ]
    },
    {
      "cell_type": "code",
      "execution_count": 79,
      "metadata": {},
      "outputs": [
        {
          "name": "stdout",
          "output_type": "stream",
          "text": [
            "\n",
            "🔹 Descriptive Statistics (Before Imputation):\n",
            "             ID        Age        Salary  Experience\n",
            "count  8.00000   6.000000      6.000000    6.000000\n",
            "mean   4.50000  37.500000  60333.333333    6.166667\n",
            "std    2.44949   9.354143   7118.052168    4.020779\n",
            "min    1.00000  25.000000  50000.000000    1.000000\n",
            "25%    2.75000  31.250000  56250.000000    3.500000\n",
            "50%    4.50000  37.500000  61000.000000    6.000000\n",
            "75%    6.25000  43.750000  64250.000000    8.500000\n",
            "max    8.00000  50.000000  70000.000000   12.000000\n",
            "\n",
            "🔹 Descriptive Statistics (After Imputation):\n",
            "             ID        Age        Salary  Experience\n",
            "count  8.00000   8.000000      8.000000    8.000000\n",
            "mean   4.50000  37.500000  60333.333333    6.166667\n",
            "std    2.44949   7.905694   6015.852075    3.398179\n",
            "min    1.00000  25.000000  50000.000000    1.000000\n",
            "25%    2.75000  33.750000  58750.000000    4.500000\n",
            "50%    4.50000  37.500000  60333.333333    6.166667\n",
            "75%    6.25000  41.250000  62750.000000    7.500000\n",
            "max    8.00000  50.000000  70000.000000   12.000000\n",
            "\n",
            "🔹 Comparison of Descriptive Statistics:\n",
            "                    ID        Age        Salary  Experience\n",
            "Before count  8.00000   6.000000      6.000000    6.000000\n",
            "       mean   4.50000  37.500000  60333.333333    6.166667\n",
            "       std    2.44949   9.354143   7118.052168    4.020779\n",
            "       min    1.00000  25.000000  50000.000000    1.000000\n",
            "       25%    2.75000  31.250000  56250.000000    3.500000\n",
            "       50%    4.50000  37.500000  61000.000000    6.000000\n",
            "       75%    6.25000  43.750000  64250.000000    8.500000\n",
            "       max    8.00000  50.000000  70000.000000   12.000000\n",
            "After  count  8.00000   8.000000      8.000000    8.000000\n",
            "       mean   4.50000  37.500000  60333.333333    6.166667\n",
            "       std    2.44949   7.905694   6015.852075    3.398179\n",
            "       min    1.00000  25.000000  50000.000000    1.000000\n",
            "       25%    2.75000  33.750000  58750.000000    4.500000\n",
            "       50%    4.50000  37.500000  60333.333333    6.166667\n",
            "       75%    6.25000  41.250000  62750.000000    7.500000\n",
            "       max    8.00000  50.000000  70000.000000   12.000000\n"
          ]
        },
        {
          "name": "stderr",
          "output_type": "stream",
          "text": [
            "C:\\Users\\HP\\AppData\\Local\\Temp\\ipykernel_15088\\1396411304.py:19: FutureWarning: A value is trying to be set on a copy of a DataFrame or Series through chained assignment using an inplace method.\n",
            "The behavior will change in pandas 3.0. This inplace method will never work because the intermediate object on which we are setting values always behaves as a copy.\n",
            "\n",
            "For example, when doing 'df[col].method(value, inplace=True)', try using 'df.method({col: value}, inplace=True)' or df[col] = df[col].method(value) instead, to perform the operation inplace on the original object.\n",
            "\n",
            "\n",
            "  df_filled['Age'].fillna(df['Age'].mean(), inplace=True)\n",
            "C:\\Users\\HP\\AppData\\Local\\Temp\\ipykernel_15088\\1396411304.py:20: FutureWarning: A value is trying to be set on a copy of a DataFrame or Series through chained assignment using an inplace method.\n",
            "The behavior will change in pandas 3.0. This inplace method will never work because the intermediate object on which we are setting values always behaves as a copy.\n",
            "\n",
            "For example, when doing 'df[col].method(value, inplace=True)', try using 'df.method({col: value}, inplace=True)' or df[col] = df[col].method(value) instead, to perform the operation inplace on the original object.\n",
            "\n",
            "\n",
            "  df_filled['Salary'].fillna(df['Salary'].mean(), inplace=True)\n",
            "C:\\Users\\HP\\AppData\\Local\\Temp\\ipykernel_15088\\1396411304.py:21: FutureWarning: A value is trying to be set on a copy of a DataFrame or Series through chained assignment using an inplace method.\n",
            "The behavior will change in pandas 3.0. This inplace method will never work because the intermediate object on which we are setting values always behaves as a copy.\n",
            "\n",
            "For example, when doing 'df[col].method(value, inplace=True)', try using 'df.method({col: value}, inplace=True)' or df[col] = df[col].method(value) instead, to perform the operation inplace on the original object.\n",
            "\n",
            "\n",
            "  df_filled['Experience'].fillna(df['Experience'].mean(), inplace=True)\n"
          ]
        }
      ],
      "source": [
        "import pandas as pd\n",
        "import numpy as np\n",
        "\n",
        "# ---- Step 1: Create a DataFrame with Missing Values ----\n",
        "data = {\n",
        "    'ID': [1, 2, 3, 4, 5, 6, 7, 8],\n",
        "    'Age': [25, 30, np.nan, 40, 35, np.nan, 50, 45],  # Missing values\n",
        "    'Salary': [50000, 60000, 55000, np.nan, 65000, 70000, 62000, np.nan],  # Missing values\n",
        "    'Experience': [1, 3, 5, np.nan, 7, 9, np.nan, 12]  # Missing values\n",
        "}\n",
        "\n",
        "df = pd.DataFrame(data)\n",
        "\n",
        "# ---- Step 2: Descriptive Statistics Before Handling Missing Data ----\n",
        "print(\"\\n🔹 Descriptive Statistics (Before Imputation):\\n\", df.describe())\n",
        "\n",
        "# ---- Step 3: Handle Missing Data (Imputation using Mean) ----\n",
        "df_filled = df.copy()\n",
        "df_filled['Age'].fillna(df['Age'].mean(), inplace=True)\n",
        "df_filled['Salary'].fillna(df['Salary'].mean(), inplace=True)\n",
        "df_filled['Experience'].fillna(df['Experience'].mean(), inplace=True)\n",
        "\n",
        "# ---- Step 4: Descriptive Statistics After Handling Missing Data ----\n",
        "print(\"\\n🔹 Descriptive Statistics (After Imputation):\\n\", df_filled.describe())\n",
        "\n",
        "# ---- Step 5: Compare Before and After Imputation ----\n",
        "comparison = pd.concat([df.describe(), df_filled.describe()], keys=['Before', 'After'])\n",
        "print(\"\\n🔹 Comparison of Descriptive Statistics:\\n\", comparison)\n"
      ]
    },
    {
      "cell_type": "code",
      "execution_count": null,
      "metadata": {},
      "outputs": [],
      "source": []
    }
  ],
  "metadata": {
    "colab": {
      "provenance": []
    },
    "kernelspec": {
      "display_name": "pandas_env",
      "language": "python",
      "name": "python3"
    },
    "language_info": {
      "codemirror_mode": {
        "name": "ipython",
        "version": 3
      },
      "file_extension": ".py",
      "mimetype": "text/x-python",
      "name": "python",
      "nbconvert_exporter": "python",
      "pygments_lexer": "ipython3",
      "version": "3.13.1"
    }
  },
  "nbformat": 4,
  "nbformat_minor": 0
}
