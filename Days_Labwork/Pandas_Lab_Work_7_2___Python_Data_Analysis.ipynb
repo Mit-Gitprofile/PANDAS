{
  "cells": [
    {
      "cell_type": "code",
      "execution_count": null,
      "metadata": {},
      "outputs": [],
      "source": []
    },
    {
      "cell_type": "markdown",
      "metadata": {
        "id": "6ou_N6pPj_ni"
      },
      "source": [
        "# Task 1: Combining DataFrames\n"
      ]
    },
    {
      "cell_type": "markdown",
      "metadata": {
        "id": "CcrlMQDwkDqR"
      },
      "source": [
        "1. Create two DataFrames, `df1` and `df2`, with overlapping columns but different data.\n",
        "   - Use the `concat` method to vertically stack them.\n",
        "   - Use the `merge` method to combine the DataFrames on a specific key column.\n",
        "   - Use the `join` method to combine them based on their index."
      ]
    },
    {
      "cell_type": "code",
      "execution_count": 46,
      "metadata": {},
      "outputs": [
        {
          "name": "stdout",
          "output_type": "stream",
          "text": [
            "        Brand   Model    Year  Engine_Size Fuel_Type    Transmission   Mileage  Doors  Owner_Count    Price  UDI Product ID Type  Air temperature [K]  Process temperature [K]  Rotational speed [rpm]  Torque [Nm]  Tool wear [min]  Target Failure Type\n",
            "0         Kia     Rio  2020.0          4.2    Diesel          Manual  289944.0    3.0          5.0   8501.0  NaN        NaN  NaN                  NaN                      NaN                     NaN          NaN              NaN     NaN          NaN\n",
            "1   Chevrolet  Malibu  2012.0          2.0    Hybrid       Automatic    5356.0    2.0          3.0  12092.0  NaN        NaN  NaN                  NaN                      NaN                     NaN          NaN              NaN     NaN          NaN\n",
            "2    Mercedes     GLA  2020.0          4.2    Diesel       Automatic  231440.0    4.0          2.0  11171.0  NaN        NaN  NaN                  NaN                      NaN                     NaN          NaN              NaN     NaN          NaN\n",
            "3        Audi      Q5  2023.0          2.0  Electric          Manual  160971.0    2.0          1.0  11780.0  NaN        NaN  NaN                  NaN                      NaN                     NaN          NaN              NaN     NaN          NaN\n",
            "4  Volkswagen    Golf  2003.0          2.6    Hybrid  Semi-Automatic  286618.0    3.0          3.0   2867.0  NaN        NaN  NaN                  NaN                      NaN                     NaN          NaN              NaN     NaN          NaN\n"
          ]
        }
      ],
      "source": [
        "import pandas as pd\n",
        "\n",
        "file=pd.read_csv('F:\\\\Github_Desktop\\\\PANDAS\\\\Days_Labwork\\\\datasets\\\\car_price_dataset.csv')\n",
        "df1=pd.DataFrame(file)\n",
        "# print(df1.head(5).to_string())\n",
        "\n",
        "file2=pd.read_csv('F:\\\\Github_Desktop\\\\PANDAS\\\\Days_Labwork\\\\datasets\\\\predictive_maintenance.csv')\n",
        "df2=pd.DataFrame(file2)\n",
        "# print(df2.head(5).to_string())\n",
        "\n",
        "# Concatenate DataFrames row-wise with aligned columns\n",
        "conc = pd.concat([df1, df2], ignore_index=True)\n",
        "\n",
        "print(conc.head(5).to_string())"
      ]
    },
    {
      "cell_type": "code",
      "execution_count": 48,
      "metadata": {},
      "outputs": [
        {
          "name": "stdout",
          "output_type": "stream",
          "text": [
            "  Brand Model  Year  Engine_Size Fuel_Type Transmission  Mileage  Doors  Owner_Count  Price  UDI Product ID Type  Air temperature [K]  Process temperature [K]  Rotational speed [rpm]  Torque [Nm]  Tool wear [min]  Target Failure Type\n",
            "0   Kia   Rio  2020          4.2    Diesel       Manual   289944      3            5   8501    1     M14860    M                298.1                    308.6                    1551         42.8                0       0   No Failure\n",
            "1   Kia   Rio  2020          4.2    Diesel       Manual   289944      3            5   8501    8     L47187    L                298.1                    308.6                    1527         40.2               16       0   No Failure\n",
            "2   Kia   Rio  2020          4.2    Diesel       Manual   289944      3            5   8501    9     M14868    M                298.3                    308.7                    1667         28.6               18       0   No Failure\n",
            "3   Kia   Rio  2020          4.2    Diesel       Manual   289944      3            5   8501   19     H29432    H                298.8                    309.2                    1306         54.5               50       0   No Failure\n",
            "4   Kia   Rio  2020          4.2    Diesel       Manual   289944      3            5   8501   26     L47205    L                299.0                    309.5                    1861         23.3               73       0   No Failure\n"
          ]
        }
      ],
      "source": [
        "import pandas as pd\n",
        "\n",
        "file=pd.read_csv('F:\\\\Github_Desktop\\\\PANDAS\\\\Days_Labwork\\\\datasets\\\\car_price_dataset.csv')\n",
        "df1=pd.DataFrame(file)\n",
        "col=df1['Brand']\n",
        "\n",
        "file2=pd.read_csv('F:\\\\Github_Desktop\\\\PANDAS\\\\Days_Labwork\\\\datasets\\\\predictive_maintenance.csv')\n",
        "df2=pd.DataFrame(file2)\n",
        "df2['Brand']=col\n",
        "\n",
        "mrg=pd.merge(df1,df2,on='Brand')\n",
        "print(mrg.head(5).to_string())\n"
      ]
    },
    {
      "cell_type": "markdown",
      "metadata": {
        "id": "genm2YXOkFkZ"
      },
      "source": [
        "2. Create two DataFrames with non-overlapping columns and combine them:\n",
        "   - Horizontally stack them using `concat`.\n",
        "   - Perform an outer join on a specific key column."
      ]
    },
    {
      "cell_type": "markdown",
      "metadata": {
        "id": "9p6RXXj8kGfS"
      },
      "source": [
        "3. Create a DataFrame and split it into multiple smaller DataFrames.\n",
        "   - Recombine the smaller DataFrames into a single one."
      ]
    },
    {
      "cell_type": "markdown",
      "metadata": {
        "id": "_WG_RvBVkIcZ"
      },
      "source": [
        "# Task 2: Handling Missing Data\n"
      ]
    },
    {
      "cell_type": "markdown",
      "metadata": {
        "id": "UtC9tVxOkKpB"
      },
      "source": [
        "1. Create a DataFrame with some missing values (`NaN`). Perform the following operations:\n",
        "   - Fill missing values with a constant value.\n",
        "   - Use `forward fill` and `backward fill` methods.\n",
        "   - Replace missing values with the mean of the respective column."
      ]
    },
    {
      "cell_type": "markdown",
      "metadata": {
        "id": "71_kPznYkMKG"
      },
      "source": [
        "2. Identify and drop rows or columns with missing data:\n",
        "   - Drop rows with any missing values.\n",
        "   - Drop columns with all missing values."
      ]
    },
    {
      "cell_type": "markdown",
      "metadata": {
        "id": "kr5SnAoRkNtR"
      },
      "source": [
        "3. Create a DataFrame and detect missing data using the `isnull()` and `notnull()` methods.\n",
        "   - Count the number of missing values in each column."
      ]
    },
    {
      "cell_type": "markdown",
      "metadata": {
        "id": "QOHDEO6NkPYS"
      },
      "source": [
        "4. Perform an interpolation operation to handle missing data in a DataFrame with numerical values.\n"
      ]
    },
    {
      "cell_type": "markdown",
      "metadata": {
        "id": "_19eRdxOkRSZ"
      },
      "source": [
        "# Task 3: Descriptive Statistics\n"
      ]
    },
    {
      "cell_type": "markdown",
      "metadata": {
        "id": "8TKubpfAkTep"
      },
      "source": [
        "1. Create a DataFrame with numerical and categorical data:\n",
        "   - Calculate the mean, median, mode, and standard deviation of numerical columns.\n",
        "   - Count the frequency of unique values in categorical columns."
      ]
    },
    {
      "cell_type": "markdown",
      "metadata": {
        "id": "XGFLeDPpkU_x"
      },
      "source": [
        "2. Create a DataFrame representing a dataset of exam scores for different subjects.\n",
        "   - Find the minimum, maximum, and range of scores for each subject.\n",
        "   - Identify the student(s) with the highest and lowest total scores."
      ]
    },
    {
      "cell_type": "markdown",
      "metadata": {
        "id": "1W84VlD7kWns"
      },
      "source": [
        "3. Create a DataFrame with multiple groups of data (e.g., sales data for different regions):\n",
        "   - Group the data by a specific column and calculate descriptive statistics (e.g., `mean`, `sum`, `std`) for each group.\n",
        "   - Visualize summary statistics using a bar chart."
      ]
    },
    {
      "cell_type": "markdown",
      "metadata": {
        "id": "e099rQrBkX_x"
      },
      "source": [
        "4. Use the `describe()` method on a DataFrame to generate descriptive statistics:\n",
        "   - Analyze the output and write observations on key metrics."
      ]
    },
    {
      "cell_type": "markdown",
      "metadata": {
        "id": "eLfq-C_WkZ_p"
      },
      "source": [
        "# Additional Challenges\n"
      ]
    },
    {
      "cell_type": "markdown",
      "metadata": {
        "id": "nkJyLLizkbgD"
      },
      "source": [
        "1. Combine DataFrames with mismatched data:\n",
        "   - Resolve alignment issues by specifying `how` parameter in merging."
      ]
    },
    {
      "cell_type": "markdown",
      "metadata": {
        "id": "Vwyl1c_Nkc_6"
      },
      "source": [
        "2. Generate a DataFrame with deliberate missing values and evaluate:\n",
        "   - Impact of different imputation strategies (mean, median, mode)."
      ]
    },
    {
      "cell_type": "markdown",
      "metadata": {
        "id": "PQ5NzeKDkekx"
      },
      "source": [
        "3. Compare descriptive statistics before and after handling missing data in a dataset."
      ]
    }
  ],
  "metadata": {
    "colab": {
      "provenance": []
    },
    "kernelspec": {
      "display_name": "pandas_env",
      "language": "python",
      "name": "python3"
    },
    "language_info": {
      "codemirror_mode": {
        "name": "ipython",
        "version": 3
      },
      "file_extension": ".py",
      "mimetype": "text/x-python",
      "name": "python",
      "nbconvert_exporter": "python",
      "pygments_lexer": "ipython3",
      "version": "3.13.1"
    }
  },
  "nbformat": 4,
  "nbformat_minor": 0
}
