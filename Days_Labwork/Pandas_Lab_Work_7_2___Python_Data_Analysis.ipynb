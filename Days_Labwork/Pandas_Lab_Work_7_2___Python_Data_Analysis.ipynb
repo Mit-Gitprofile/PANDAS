{
  "cells": [
    {
      "cell_type": "code",
      "execution_count": null,
      "metadata": {},
      "outputs": [],
      "source": []
    },
    {
      "cell_type": "markdown",
      "metadata": {
        "id": "6ou_N6pPj_ni"
      },
      "source": [
        "# Task 1: Combining DataFrames\n"
      ]
    },
    {
      "cell_type": "markdown",
      "metadata": {
        "id": "CcrlMQDwkDqR"
      },
      "source": [
        "1. Create two DataFrames, `df1` and `df2`, with overlapping columns but different data.\n",
        "   - Use the `concat` method to vertically stack them.\n",
        "   - Use the `merge` method to combine the DataFrames on a specific key column.\n",
        "   - Use the `join` method to combine them based on their index."
      ]
    },
    {
      "cell_type": "code",
      "execution_count": null,
      "metadata": {},
      "outputs": [
        {
          "name": "stdout",
          "output_type": "stream",
          "text": [
            "   name  age  id\n",
            "0     a   10   1\n",
            "1     b   20   2\n",
            "2     c   30   3\n",
            "3     d   40   4\n",
            "4     e   50   5\n",
            "5     f   60   6\n",
            "6     g   70   7\n",
            "7     a   10   1\n",
            "8     b   20   2\n",
            "9     c   30   3\n",
            "10    d   40   4\n",
            "11    e   50   5\n",
            "12    f   60   6\n",
            "13    g   70   7\n",
            "       name  age  id\n",
            "key1 0    a   10   1\n",
            "     1    b   20   2\n",
            "     2    c   30   3\n",
            "     3    d   40   4\n",
            "     4    e   50   5\n",
            "     5    f   60   6\n",
            "     6    g   70   7\n",
            "key2 0    a   10   1\n",
            "     1    b   20   2\n",
            "     2    c   30   3\n",
            "     3    d   40   4\n",
            "     4    e   50   5\n",
            "     5    f   60   6\n",
            "     6    g   70   7\n"
          ]
        }
      ],
      "source": [
        "#Concat\n",
        "\n",
        "import pandas as pd\n",
        "\n",
        "file=pd.read_csv('F:\\\\Github_Desktop\\\\PANDAS\\\\Days_Labwork\\\\datasets\\\\file1.csv')\n",
        "df1=pd.DataFrame(file)\n",
        "# print(df1.head(5).to_string())\n",
        "\n",
        "file2=pd.read_csv('F:\\\\Github_Desktop\\\\PANDAS\\\\Days_Labwork\\\\datasets\\\\Book1.csv')\n",
        "df2=pd.DataFrame(file2)\n",
        "# print(df2.head(5).to_string())\n",
        "\n",
        "# Concatenate DataFrames row-wise with aligned columns\n",
        "conc = pd.concat([df1, df2],ignore_index=True)\n",
        "print(conc.to_string())\n",
        "\n",
        "conc = pd.concat([df1, df2],keys=['key1','key2'])\n",
        "print(conc.to_string())"
      ]
    },
    {
      "cell_type": "code",
      "execution_count": null,
      "metadata": {},
      "outputs": [
        {
          "name": "stdout",
          "output_type": "stream",
          "text": [
            "  name  age_x  id_x  age_y  id_y\n",
            "0    a     10     1     10     1\n",
            "1    b     20     2     20     2\n",
            "2    c     30     3     30     3\n",
            "3    d     40     4     40     4\n",
            "4    e     50     5     50     5\n",
            "5    f     60     6     60     6\n",
            "6    g     70     7     70     7\n"
          ]
        }
      ],
      "source": [
        "# Merge\n",
        "\n",
        "import pandas as pd\n",
        "\n",
        "file=pd.read_csv('F:\\\\Github_Desktop\\\\PANDAS\\\\Days_Labwork\\\\datasets\\\\file1.csv')\n",
        "df1=pd.DataFrame(file)\n",
        "# print(df1.head(5).to_string())\n",
        "\n",
        "file2=pd.read_csv('F:\\\\Github_Desktop\\\\PANDAS\\\\Days_Labwork\\\\datasets\\\\Book1.csv')\n",
        "df2=pd.DataFrame(file2)\n",
        "# print(df2.head(5).to_string())\n",
        "\n",
        "mrg=pd.merge(df1,df2,on='name')\n",
        "print(mrg.to_string())\n"
      ]
    },
    {
      "cell_type": "code",
      "execution_count": 5,
      "metadata": {},
      "outputs": [
        {
          "name": "stdout",
          "output_type": "stream",
          "text": [
            "  name  age  id name  age  id\n",
            "0    a   10   1    a   10   1\n",
            "1    b   20   2    b   20   2\n",
            "2    c   30   3    c   30   3\n",
            "3    d   40   4    d   40   4\n",
            "4    e   50   5    e   50   5\n",
            "5    f   60   6    f   60   6\n",
            "6    g   70   7    g   70   7\n"
          ]
        }
      ],
      "source": [
        "#Join\n",
        "\n",
        "import pandas as pd\n",
        "\n",
        "file=pd.read_csv('F:\\\\Github_Desktop\\\\PANDAS\\\\Days_Labwork\\\\datasets\\\\file1.csv')\n",
        "df1=pd.DataFrame(file)\n",
        "# print(df1.head(5).to_string())\n",
        "\n",
        "file2=pd.read_csv('F:\\\\Github_Desktop\\\\PANDAS\\\\Days_Labwork\\\\datasets\\\\Book1.csv')\n",
        "df2=pd.DataFrame(file2)\n",
        "# print(df2.head(5).to_string())\n",
        "\n",
        "conc = pd.concat([df1, df2],axis=1,join='outer')\n",
        "print(conc.to_string())"
      ]
    },
    {
      "cell_type": "code",
      "execution_count": null,
      "metadata": {},
      "outputs": [],
      "source": []
    },
    {
      "cell_type": "markdown",
      "metadata": {
        "id": "genm2YXOkFkZ"
      },
      "source": [
        "2. Create two DataFrames with non-overlapping columns and combine them:\n",
        "   - Horizontally stack them using `concat`.\n",
        "   - Perform an outer join on a specific key column."
      ]
    },
    {
      "cell_type": "markdown",
      "metadata": {
        "id": "9p6RXXj8kGfS"
      },
      "source": [
        "3. Create a DataFrame and split it into multiple smaller DataFrames.\n",
        "   - Recombine the smaller DataFrames into a single one."
      ]
    },
    {
      "cell_type": "markdown",
      "metadata": {
        "id": "_WG_RvBVkIcZ"
      },
      "source": [
        "# Task 2: Handling Missing Data\n"
      ]
    },
    {
      "cell_type": "markdown",
      "metadata": {
        "id": "UtC9tVxOkKpB"
      },
      "source": [
        "1. Create a DataFrame with some missing values (`NaN`). Perform the following operations:\n",
        "   - Fill missing values with a constant value.\n",
        "   - Use `forward fill` and `backward fill` methods.\n",
        "   - Replace missing values with the mean of the respective column."
      ]
    },
    {
      "cell_type": "markdown",
      "metadata": {
        "id": "71_kPznYkMKG"
      },
      "source": [
        "2. Identify and drop rows or columns with missing data:\n",
        "   - Drop rows with any missing values.\n",
        "   - Drop columns with all missing values."
      ]
    },
    {
      "cell_type": "markdown",
      "metadata": {
        "id": "kr5SnAoRkNtR"
      },
      "source": [
        "3. Create a DataFrame and detect missing data using the `isnull()` and `notnull()` methods.\n",
        "   - Count the number of missing values in each column."
      ]
    },
    {
      "cell_type": "markdown",
      "metadata": {
        "id": "QOHDEO6NkPYS"
      },
      "source": [
        "4. Perform an interpolation operation to handle missing data in a DataFrame with numerical values.\n"
      ]
    },
    {
      "cell_type": "markdown",
      "metadata": {
        "id": "_19eRdxOkRSZ"
      },
      "source": [
        "# Task 3: Descriptive Statistics\n"
      ]
    },
    {
      "cell_type": "markdown",
      "metadata": {
        "id": "8TKubpfAkTep"
      },
      "source": [
        "1. Create a DataFrame with numerical and categorical data:\n",
        "   - Calculate the mean, median, mode, and standard deviation of numerical columns.\n",
        "   - Count the frequency of unique values in categorical columns."
      ]
    },
    {
      "cell_type": "markdown",
      "metadata": {
        "id": "XGFLeDPpkU_x"
      },
      "source": [
        "2. Create a DataFrame representing a dataset of exam scores for different subjects.\n",
        "   - Find the minimum, maximum, and range of scores for each subject.\n",
        "   - Identify the student(s) with the highest and lowest total scores."
      ]
    },
    {
      "cell_type": "markdown",
      "metadata": {
        "id": "1W84VlD7kWns"
      },
      "source": [
        "3. Create a DataFrame with multiple groups of data (e.g., sales data for different regions):\n",
        "   - Group the data by a specific column and calculate descriptive statistics (e.g., `mean`, `sum`, `std`) for each group.\n",
        "   - Visualize summary statistics using a bar chart."
      ]
    },
    {
      "cell_type": "markdown",
      "metadata": {
        "id": "e099rQrBkX_x"
      },
      "source": [
        "4. Use the `describe()` method on a DataFrame to generate descriptive statistics:\n",
        "   - Analyze the output and write observations on key metrics."
      ]
    },
    {
      "cell_type": "markdown",
      "metadata": {
        "id": "eLfq-C_WkZ_p"
      },
      "source": [
        "# Additional Challenges\n"
      ]
    },
    {
      "cell_type": "markdown",
      "metadata": {
        "id": "nkJyLLizkbgD"
      },
      "source": [
        "1. Combine DataFrames with mismatched data:\n",
        "   - Resolve alignment issues by specifying `how` parameter in merging."
      ]
    },
    {
      "cell_type": "markdown",
      "metadata": {
        "id": "Vwyl1c_Nkc_6"
      },
      "source": [
        "2. Generate a DataFrame with deliberate missing values and evaluate:\n",
        "   - Impact of different imputation strategies (mean, median, mode)."
      ]
    },
    {
      "cell_type": "markdown",
      "metadata": {
        "id": "PQ5NzeKDkekx"
      },
      "source": [
        "3. Compare descriptive statistics before and after handling missing data in a dataset."
      ]
    }
  ],
  "metadata": {
    "colab": {
      "provenance": []
    },
    "kernelspec": {
      "display_name": "pandas_env",
      "language": "python",
      "name": "python3"
    },
    "language_info": {
      "codemirror_mode": {
        "name": "ipython",
        "version": 3
      },
      "file_extension": ".py",
      "mimetype": "text/x-python",
      "name": "python",
      "nbconvert_exporter": "python",
      "pygments_lexer": "ipython3",
      "version": "3.13.1"
    }
  },
  "nbformat": 4,
  "nbformat_minor": 0
}
