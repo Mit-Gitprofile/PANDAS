{
  "nbformat": 4,
  "nbformat_minor": 0,
  "metadata": {
    "colab": {
      "provenance": []
    },
    "kernelspec": {
      "name": "python3",
      "display_name": "Python 3"
    },
    "language_info": {
      "name": "python"
    }
  },
  "cells": [
    {
      "cell_type": "markdown",
      "source": [
        "# Task 1: Combining DataFrames\n"
      ],
      "metadata": {
        "id": "6ou_N6pPj_ni"
      }
    },
    {
      "cell_type": "markdown",
      "source": [
        "1. Create two DataFrames, `df1` and `df2`, with overlapping columns but different data.\n",
        "   - Use the `concat` method to vertically stack them.\n",
        "   - Use the `merge` method to combine the DataFrames on a specific key column.\n",
        "   - Use the `join` method to combine them based on their index."
      ],
      "metadata": {
        "id": "CcrlMQDwkDqR"
      }
    },
    {
      "cell_type": "markdown",
      "source": [
        "2. Create two DataFrames with non-overlapping columns and combine them:\n",
        "   - Horizontally stack them using `concat`.\n",
        "   - Perform an outer join on a specific key column."
      ],
      "metadata": {
        "id": "genm2YXOkFkZ"
      }
    },
    {
      "cell_type": "markdown",
      "source": [
        "3. Create a DataFrame and split it into multiple smaller DataFrames.\n",
        "   - Recombine the smaller DataFrames into a single one."
      ],
      "metadata": {
        "id": "9p6RXXj8kGfS"
      }
    },
    {
      "cell_type": "markdown",
      "source": [
        "# Task 2: Handling Missing Data\n"
      ],
      "metadata": {
        "id": "_WG_RvBVkIcZ"
      }
    },
    {
      "cell_type": "markdown",
      "source": [
        "1. Create a DataFrame with some missing values (`NaN`). Perform the following operations:\n",
        "   - Fill missing values with a constant value.\n",
        "   - Use `forward fill` and `backward fill` methods.\n",
        "   - Replace missing values with the mean of the respective column."
      ],
      "metadata": {
        "id": "UtC9tVxOkKpB"
      }
    },
    {
      "cell_type": "markdown",
      "source": [
        "2. Identify and drop rows or columns with missing data:\n",
        "   - Drop rows with any missing values.\n",
        "   - Drop columns with all missing values."
      ],
      "metadata": {
        "id": "71_kPznYkMKG"
      }
    },
    {
      "cell_type": "markdown",
      "source": [
        "3. Create a DataFrame and detect missing data using the `isnull()` and `notnull()` methods.\n",
        "   - Count the number of missing values in each column."
      ],
      "metadata": {
        "id": "kr5SnAoRkNtR"
      }
    },
    {
      "cell_type": "markdown",
      "source": [
        "4. Perform an interpolation operation to handle missing data in a DataFrame with numerical values.\n"
      ],
      "metadata": {
        "id": "QOHDEO6NkPYS"
      }
    },
    {
      "cell_type": "markdown",
      "source": [
        "# Task 3: Descriptive Statistics\n"
      ],
      "metadata": {
        "id": "_19eRdxOkRSZ"
      }
    },
    {
      "cell_type": "markdown",
      "source": [
        "1. Create a DataFrame with numerical and categorical data:\n",
        "   - Calculate the mean, median, mode, and standard deviation of numerical columns.\n",
        "   - Count the frequency of unique values in categorical columns."
      ],
      "metadata": {
        "id": "8TKubpfAkTep"
      }
    },
    {
      "cell_type": "markdown",
      "source": [
        "2. Create a DataFrame representing a dataset of exam scores for different subjects.\n",
        "   - Find the minimum, maximum, and range of scores for each subject.\n",
        "   - Identify the student(s) with the highest and lowest total scores."
      ],
      "metadata": {
        "id": "XGFLeDPpkU_x"
      }
    },
    {
      "cell_type": "markdown",
      "source": [
        "3. Create a DataFrame with multiple groups of data (e.g., sales data for different regions):\n",
        "   - Group the data by a specific column and calculate descriptive statistics (e.g., `mean`, `sum`, `std`) for each group.\n",
        "   - Visualize summary statistics using a bar chart."
      ],
      "metadata": {
        "id": "1W84VlD7kWns"
      }
    },
    {
      "cell_type": "markdown",
      "source": [
        "4. Use the `describe()` method on a DataFrame to generate descriptive statistics:\n",
        "   - Analyze the output and write observations on key metrics."
      ],
      "metadata": {
        "id": "e099rQrBkX_x"
      }
    },
    {
      "cell_type": "markdown",
      "source": [
        "# Additional Challenges\n"
      ],
      "metadata": {
        "id": "eLfq-C_WkZ_p"
      }
    },
    {
      "cell_type": "markdown",
      "source": [
        "1. Combine DataFrames with mismatched data:\n",
        "   - Resolve alignment issues by specifying `how` parameter in merging."
      ],
      "metadata": {
        "id": "nkJyLLizkbgD"
      }
    },
    {
      "cell_type": "markdown",
      "source": [
        "2. Generate a DataFrame with deliberate missing values and evaluate:\n",
        "   - Impact of different imputation strategies (mean, median, mode)."
      ],
      "metadata": {
        "id": "Vwyl1c_Nkc_6"
      }
    },
    {
      "cell_type": "markdown",
      "source": [
        "3. Compare descriptive statistics before and after handling missing data in a dataset."
      ],
      "metadata": {
        "id": "PQ5NzeKDkekx"
      }
    }
  ]
}