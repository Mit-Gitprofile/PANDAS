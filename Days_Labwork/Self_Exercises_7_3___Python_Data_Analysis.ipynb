{
  "cells": [
    {
      "cell_type": "markdown",
      "metadata": {
        "id": "J2UeeolahCR0"
      },
      "source": [
        "## Pivoting\n"
      ]
    },
    {
      "cell_type": "markdown",
      "metadata": {
        "id": "f3-3PgNjhEcU"
      },
      "source": [
        "1. What is pivoting in pandas, and how is it used for data manipulation?\n",
        "2. Explain the `pivot()` method in pandas with an example.\n",
        "3. What is the difference between `pivot()` and `pivot_table()` in pandas?\n",
        "4. How can you handle missing values when pivoting data?"
      ]
    },
    {
      "cell_type": "code",
      "execution_count": null,
      "metadata": {
        "vscode": {
          "languageId": "plaintext"
        }
      },
      "outputs": [],
      "source": []
    },
    {
      "cell_type": "markdown",
      "metadata": {
        "id": "bodxkSqPhFuz"
      },
      "source": [
        "## Sorting & Aggregation\n"
      ]
    },
    {
      "cell_type": "markdown",
      "metadata": {
        "id": "Q_RPtxn6hHLb"
      },
      "source": [
        "5. What are the different methods to sort data in pandas DataFrame?\n",
        "6. How do you sort a DataFrame by multiple columns?\n",
        "7. Explain the concept of aggregation in pandas.\n",
        "8. What are some common aggregation functions used in pandas?\n",
        "9. How can you use the `groupby()` method to perform aggregation on a DataFrame?"
      ]
    },
    {
      "cell_type": "markdown",
      "metadata": {
        "id": "m0oAGY85hH47"
      },
      "source": [
        "## Re-Indexing & Altering Labels\n"
      ]
    },
    {
      "cell_type": "markdown",
      "metadata": {
        "id": "Gsxyeos5hJ_7"
      },
      "source": [
        "10. What is re-indexing in pandas, and why is it important?\n",
        "11. Explain the use of the `reindex()` method in pandas with an example.\n",
        "12. How do you rename row and column labels in a pandas DataFrame?\n",
        "13. What happens if you use re-indexing with labels not present in the DataFrame?"
      ]
    },
    {
      "cell_type": "markdown",
      "metadata": {
        "id": "ycd5RQ45hLrb"
      },
      "source": [
        "## Groupby() & Transform()\n"
      ]
    },
    {
      "cell_type": "markdown",
      "metadata": {
        "id": "ty8Wb_BfhOEj"
      },
      "source": [
        "14. What is the purpose of the `groupby()` method in pandas?\n",
        "15. How does `groupby()` differ from SQL-style grouping?\n",
        "16. Explain the concept of transformation in pandas.\n",
        "17. How is the `transform()` method different from `apply()` in pandas?\n",
        "18. Provide an example of using `groupby()` and `transform()` together in pandas."
      ]
    }
  ],
  "metadata": {
    "colab": {
      "provenance": []
    },
    "kernelspec": {
      "display_name": "Python 3",
      "name": "python3"
    },
    "language_info": {
      "name": "python"
    }
  },
  "nbformat": 4,
  "nbformat_minor": 0
}
