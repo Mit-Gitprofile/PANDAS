{
  "nbformat": 4,
  "nbformat_minor": 0,
  "metadata": {
    "colab": {
      "provenance": []
    },
    "kernelspec": {
      "name": "python3",
      "display_name": "Python 3"
    },
    "language_info": {
      "name": "python"
    }
  },
  "cells": [
    {
      "cell_type": "markdown",
      "source": [
        "## Pivoting\n"
      ],
      "metadata": {
        "id": "J2UeeolahCR0"
      }
    },
    {
      "cell_type": "markdown",
      "source": [
        "1. What is pivoting in pandas, and how is it used for data manipulation?\n",
        "2. Explain the `pivot()` method in pandas with an example.\n",
        "3. What is the difference between `pivot()` and `pivot_table()` in pandas?\n",
        "4. How can you handle missing values when pivoting data?"
      ],
      "metadata": {
        "id": "f3-3PgNjhEcU"
      }
    },
    {
      "cell_type": "markdown",
      "source": [
        "## Sorting & Aggregation\n"
      ],
      "metadata": {
        "id": "bodxkSqPhFuz"
      }
    },
    {
      "cell_type": "markdown",
      "source": [
        "5. What are the different methods to sort data in pandas DataFrame?\n",
        "6. How do you sort a DataFrame by multiple columns?\n",
        "7. Explain the concept of aggregation in pandas.\n",
        "8. What are some common aggregation functions used in pandas?\n",
        "9. How can you use the `groupby()` method to perform aggregation on a DataFrame?"
      ],
      "metadata": {
        "id": "Q_RPtxn6hHLb"
      }
    },
    {
      "cell_type": "markdown",
      "source": [
        "## Re-Indexing & Altering Labels\n"
      ],
      "metadata": {
        "id": "m0oAGY85hH47"
      }
    },
    {
      "cell_type": "markdown",
      "source": [
        "10. What is re-indexing in pandas, and why is it important?\n",
        "11. Explain the use of the `reindex()` method in pandas with an example.\n",
        "12. How do you rename row and column labels in a pandas DataFrame?\n",
        "13. What happens if you use re-indexing with labels not present in the DataFrame?"
      ],
      "metadata": {
        "id": "Gsxyeos5hJ_7"
      }
    },
    {
      "cell_type": "markdown",
      "source": [
        "## Groupby() & Transform()\n"
      ],
      "metadata": {
        "id": "ycd5RQ45hLrb"
      }
    },
    {
      "cell_type": "markdown",
      "source": [
        "14. What is the purpose of the `groupby()` method in pandas?\n",
        "15. How does `groupby()` differ from SQL-style grouping?\n",
        "16. Explain the concept of transformation in pandas.\n",
        "17. How is the `transform()` method different from `apply()` in pandas?\n",
        "18. Provide an example of using `groupby()` and `transform()` together in pandas."
      ],
      "metadata": {
        "id": "ty8Wb_BfhOEj"
      }
    }
  ]
}