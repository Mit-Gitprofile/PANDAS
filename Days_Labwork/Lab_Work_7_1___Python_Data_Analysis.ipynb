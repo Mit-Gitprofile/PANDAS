{
  "cells": [
    {
      "cell_type": "code",
      "execution_count": 14,
      "metadata": {},
      "outputs": [
        {
          "name": "stderr",
          "output_type": "stream",
          "text": [
            "f:\\Github_Desktop\\PANDAS\\pandas_env\\Scripts\\python.exe: No module named env\n"
          ]
        }
      ],
      "source": [
        "!python -m env venv"
      ]
    },
    {
      "cell_type": "markdown",
      "metadata": {
        "id": "6pKMq6H48CNK"
      },
      "source": [
        "# Task 1: Introduction to Pandas\n"
      ]
    },
    {
      "cell_type": "markdown",
      "metadata": {
        "id": "--oT0ZLQ8IpB"
      },
      "source": [
        "## Task 1.1: Installation and Import\n"
      ]
    },
    {
      "cell_type": "markdown",
      "metadata": {
        "id": "U_pfP8Qk8Qlp"
      },
      "source": [
        "1. Install the pandas library using pip if not already installed."
      ]
    },
    {
      "cell_type": "code",
      "execution_count": 15,
      "metadata": {},
      "outputs": [
        {
          "name": "stdout",
          "output_type": "stream",
          "text": [
            "Requirement already satisfied: pandas in f:\\github_desktop\\pandas\\pandas_env\\lib\\site-packages (2.2.3)\n",
            "Requirement already satisfied: numpy>=1.26.0 in f:\\github_desktop\\pandas\\pandas_env\\lib\\site-packages (from pandas) (2.2.3)\n",
            "Requirement already satisfied: python-dateutil>=2.8.2 in f:\\github_desktop\\pandas\\pandas_env\\lib\\site-packages (from pandas) (2.9.0.post0)\n",
            "Requirement already satisfied: pytz>=2020.1 in f:\\github_desktop\\pandas\\pandas_env\\lib\\site-packages (from pandas) (2025.1)\n",
            "Requirement already satisfied: tzdata>=2022.7 in f:\\github_desktop\\pandas\\pandas_env\\lib\\site-packages (from pandas) (2025.1)\n",
            "Requirement already satisfied: six>=1.5 in f:\\github_desktop\\pandas\\pandas_env\\lib\\site-packages (from python-dateutil>=2.8.2->pandas) (1.17.0)\n",
            "Note: you may need to restart the kernel to use updated packages.\n"
          ]
        },
        {
          "name": "stderr",
          "output_type": "stream",
          "text": [
            "\n",
            "[notice] A new release of pip is available: 24.3.1 -> 25.0.1\n",
            "[notice] To update, run: python.exe -m pip install --upgrade pip\n"
          ]
        }
      ],
      "source": [
        "%pip install pandas"
      ]
    },
    {
      "cell_type": "markdown",
      "metadata": {
        "id": "Ep_bzIXM8VIO"
      },
      "source": [
        "2. Import pandas and check its version."
      ]
    },
    {
      "cell_type": "code",
      "execution_count": 16,
      "metadata": {},
      "outputs": [
        {
          "name": "stdout",
          "output_type": "stream",
          "text": [
            "2.2.3\n"
          ]
        }
      ],
      "source": [
        "import pandas as pd\n",
        "print(pd.__version__)"
      ]
    },
    {
      "cell_type": "markdown",
      "metadata": {
        "id": "O8aWBmcN8V2J"
      },
      "source": [
        "## Task 1.2: Series Creation\n"
      ]
    },
    {
      "cell_type": "markdown",
      "metadata": {
        "id": "UbnsvJVV8cNw"
      },
      "source": [
        "1. Create a Pandas Series from a Python list containing integers.\n"
      ]
    },
    {
      "cell_type": "code",
      "execution_count": 17,
      "metadata": {},
      "outputs": [
        {
          "name": "stdout",
          "output_type": "stream",
          "text": [
            "0     10\n",
            "1     20\n",
            "2     30\n",
            "3     40\n",
            "4     50\n",
            "5     60\n",
            "6     70\n",
            "7     80\n",
            "8     90\n",
            "9    200\n",
            "dtype: int64\n"
          ]
        }
      ],
      "source": [
        "seriess=[10, 20 ,30 , 40, 50, 60, 70, 80, 90, 200]\n",
        "print(pd.Series(seriess))"
      ]
    },
    {
      "cell_type": "markdown",
      "metadata": {
        "id": "Ux_VeY9P8cjY"
      },
      "source": [
        "2. Create a Pandas Series with custom indices from a dictionary."
      ]
    },
    {
      "cell_type": "code",
      "execution_count": 18,
      "metadata": {},
      "outputs": [
        {
          "name": "stdout",
          "output_type": "stream",
          "text": [
            "A     10\n",
            "B     20\n",
            "C     30\n",
            "D     40\n",
            "E     50\n",
            "F     60\n",
            "G     70\n",
            "H     80\n",
            "I     90\n",
            "J    200\n",
            "dtype: int64\n"
          ]
        }
      ],
      "source": [
        "indexing=['A','B','C','D','E','F','G','H','I','J']\n",
        "print(pd.Series(seriess,index=indexing))"
      ]
    },
    {
      "cell_type": "markdown",
      "metadata": {
        "id": "rAWMlu6G8c2w"
      },
      "source": [
        "3. Create a Series of 10 random numbers using the `numpy.random` module.\n"
      ]
    },
    {
      "cell_type": "code",
      "execution_count": 19,
      "metadata": {},
      "outputs": [
        {
          "name": "stdout",
          "output_type": "stream",
          "text": [
            "0    47.0\n",
            "1    23.0\n",
            "2    81.0\n",
            "3    15.0\n",
            "4    81.0\n",
            "5    65.0\n",
            "6    54.0\n",
            "7    87.0\n",
            "8    54.0\n",
            "9    81.0\n",
            "Name: random integers, dtype: float64\n"
          ]
        }
      ],
      "source": [
        "import numpy as np\n",
        "print(pd.Series(np.random.randint(1,100,size=10),dtype=float,name='random integers'))"
      ]
    },
    {
      "cell_type": "markdown",
      "metadata": {
        "id": "KHdEn2eL8ji4"
      },
      "source": [
        "# Task 2: Working with DataFrames"
      ]
    },
    {
      "cell_type": "markdown",
      "metadata": {
        "id": "H5ZG02CD8pqr"
      },
      "source": [
        "## Task 2.1: DataFrame Creation\n"
      ]
    },
    {
      "cell_type": "markdown",
      "metadata": {
        "id": "o3yGVfPP8piT"
      },
      "source": [
        "1. Create a DataFrame from a dictionary containing lists of equal length.\n"
      ]
    },
    {
      "cell_type": "code",
      "execution_count": 20,
      "metadata": {},
      "outputs": [
        {
          "name": "stdout",
          "output_type": "stream",
          "text": [
            "             batter  batsman_run\n",
            "0    A Ashish Reddy          280\n",
            "1          A Badoni          161\n",
            "2        A Chandila            4\n",
            "3          A Chopra           53\n",
            "4       A Choudhary           25\n",
            "..              ...          ...\n",
            "600      Yash Dayal            0\n",
            "601   Yashpal Singh           47\n",
            "602     Younis Khan            3\n",
            "603    Yuvraj Singh         2754\n",
            "604          Z Khan          117\n",
            "\n",
            "[605 rows x 2 columns]\n"
          ]
        }
      ],
      "source": [
        "data=pd.read_csv('batsman_runs_ipl.csv')\n",
        "frame=pd.DataFrame(data)\n",
        "print(frame)\n"
      ]
    },
    {
      "cell_type": "markdown",
      "metadata": {
        "id": "Uf2q-Qq68pbL"
      },
      "source": [
        "2. Generate a DataFrame from a list of dictionaries with mixed datatypes.\n",
        "\n"
      ]
    },
    {
      "cell_type": "code",
      "execution_count": 21,
      "metadata": {},
      "outputs": [
        {
          "name": "stdout",
          "output_type": "stream",
          "text": [
            "                                   title_x     imdb_id  \\\n",
            "0                 Uri: The Surgical Strike   tt8291224   \n",
            "1                            Battalion 609   tt9472208   \n",
            "2     The Accidental Prime Minister (film)   tt6986710   \n",
            "3                          Why Cheat India   tt8108208   \n",
            "4                          Evening Shadows   tt6028796   \n",
            "...                                    ...         ...   \n",
            "1624                 Tera Mera Saath Rahen   tt0301250   \n",
            "1625                  Yeh Zindagi Ka Safar   tt0298607   \n",
            "1626                       Sabse Bada Sukh   tt0069204   \n",
            "1627                                 Daaka  tt10833860   \n",
            "1628                              Humsafar   tt2403201   \n",
            "\n",
            "                                            poster_path  \\\n",
            "0     https://upload.wikimedia.org/wikipedia/en/thum...   \n",
            "1                                                   NaN   \n",
            "2     https://upload.wikimedia.org/wikipedia/en/thum...   \n",
            "3     https://upload.wikimedia.org/wikipedia/en/thum...   \n",
            "4                                                   NaN   \n",
            "...                                                 ...   \n",
            "1624  https://upload.wikimedia.org/wikipedia/en/2/2b...   \n",
            "1625  https://upload.wikimedia.org/wikipedia/en/thum...   \n",
            "1626                                                NaN   \n",
            "1627  https://upload.wikimedia.org/wikipedia/en/thum...   \n",
            "1628  https://upload.wikimedia.org/wikipedia/en/thum...   \n",
            "\n",
            "                                              wiki_link  \\\n",
            "0     https://en.wikipedia.org/wiki/Uri:_The_Surgica...   \n",
            "1           https://en.wikipedia.org/wiki/Battalion_609   \n",
            "2     https://en.wikipedia.org/wiki/The_Accidental_P...   \n",
            "3         https://en.wikipedia.org/wiki/Why_Cheat_India   \n",
            "4         https://en.wikipedia.org/wiki/Evening_Shadows   \n",
            "...                                                 ...   \n",
            "1624  https://en.wikipedia.org/wiki/Tera_Mera_Saath_...   \n",
            "1625  https://en.wikipedia.org/wiki/Yeh_Zindagi_Ka_S...   \n",
            "1626      https://en.wikipedia.org/wiki/Sabse_Bada_Sukh   \n",
            "1627                https://en.wikipedia.org/wiki/Daaka   \n",
            "1628             https://en.wikipedia.org/wiki/Humsafar   \n",
            "\n",
            "                            title_y                 original_title  is_adult  \\\n",
            "0          Uri: The Surgical Strike       Uri: The Surgical Strike         0   \n",
            "1                     Battalion 609                  Battalion 609         0   \n",
            "2     The Accidental Prime Minister  The Accidental Prime Minister         0   \n",
            "3                   Why Cheat India                Why Cheat India         0   \n",
            "4                   Evening Shadows                Evening Shadows         0   \n",
            "...                             ...                            ...       ...   \n",
            "1624          Tera Mera Saath Rahen          Tera Mera Saath Rahen         0   \n",
            "1625           Yeh Zindagi Ka Safar           Yeh Zindagi Ka Safar         0   \n",
            "1626                Sabse Bada Sukh                Sabse Bada Sukh         0   \n",
            "1627                          Daaka                          Daaka         0   \n",
            "1628                       Humsafar                       Humsafar         0   \n",
            "\n",
            "      year_of_release runtime            genres  imdb_rating  imdb_votes  \\\n",
            "0                2019     138  Action|Drama|War          8.4       35112   \n",
            "1                2019     131               War          4.1          73   \n",
            "2                2019     112   Biography|Drama          6.1        5549   \n",
            "3                2019     121       Crime|Drama          6.0        1891   \n",
            "4                2018     102             Drama          7.3         280   \n",
            "...               ...     ...               ...          ...         ...   \n",
            "1624             2001     148             Drama          4.9         278   \n",
            "1625             2001     146             Drama          3.0         133   \n",
            "1626             2018      \\N      Comedy|Drama          6.1          13   \n",
            "1627             2019     136            Action          7.4          38   \n",
            "1628             2011      35     Drama|Romance          9.0        2968   \n",
            "\n",
            "                                                  story  \\\n",
            "0     Divided over five chapters  the film chronicle...   \n",
            "1     The story revolves around a cricket match betw...   \n",
            "2     Based on the memoir by Indian policy analyst S...   \n",
            "3     The movie focuses on existing malpractices in ...   \n",
            "4     While gay rights and marriage equality has bee...   \n",
            "...                                                 ...   \n",
            "1624  Raj Dixit lives with his younger brother  Rahu...   \n",
            "1625  Hindi pop-star  Sarina Devan  lives a wealthy ...   \n",
            "1626  Village born Lalloo re-locates to Bombay  and ...   \n",
            "1627  Shinda tries robbing a bank so he can be wealt...   \n",
            "1628  Sara and Ashar are childhood friends who share...   \n",
            "\n",
            "                                                summary tagline  \\\n",
            "0     Indian army special forces execute a covert op...     NaN   \n",
            "1     The story of Battalion 609 revolves around a c...     NaN   \n",
            "2     Explores Manmohan Singh's tenure as the Prime ...     NaN   \n",
            "3     The movie focuses on existing malpractices in ...     NaN   \n",
            "4     Under the 'Evening Shadows'  truth often plays...     NaN   \n",
            "...                                                 ...     ...   \n",
            "1624  A man is torn between his handicapped brother ...     NaN   \n",
            "1625  A singer finds out she was adopted when the ed...     NaN   \n",
            "1626  Village born Lalloo re-locates to Bombay  and ...     NaN   \n",
            "1627  Shinda tries robbing a bank so he can be wealt...     NaN   \n",
            "1628  Ashar and Khirad are forced to get married due...     NaN   \n",
            "\n",
            "                                                 actors  \\\n",
            "0     Vicky Kaushal|Paresh Rawal|Mohit Raina|Yami Ga...   \n",
            "1     Vicky Ahuja|Shoaib Ibrahim|Shrikant Kamat|Elen...   \n",
            "2     Anupam Kher|Akshaye Khanna|Aahana Kumra|Atul S...   \n",
            "3     Emraan Hashmi|Shreya Dhanwanthary|Snighdadeep ...   \n",
            "4     Mona Ambegaonkar|Ananth Narayan Mahadevan|Deva...   \n",
            "...                                                 ...   \n",
            "1624  Ajay Devgn|Sonali Bendre|Namrata Shirodkar|Pre...   \n",
            "1625  Ameesha Patel|Jimmy Sheirgill|Nafisa Ali|Gulsh...   \n",
            "1626  Vijay Arora|Asrani|Rajni Bala|Kumud Damle|Utpa...   \n",
            "1627                          Gippy Grewal|Zareen Khan|   \n",
            "1628                                        Fawad Khan|   \n",
            "\n",
            "            wins_nominations              release_date  \n",
            "0                     4 wins     11 January 2019 (USA)  \n",
            "1                        NaN   11 January 2019 (India)  \n",
            "2                        NaN     11 January 2019 (USA)  \n",
            "3                        NaN     18 January 2019 (USA)  \n",
            "4     17 wins & 1 nomination   11 January 2019 (India)  \n",
            "...                      ...                       ...  \n",
            "1624                     NaN   7 November 2001 (India)  \n",
            "1625                     NaN  16 November 2001 (India)  \n",
            "1626                     NaN                       NaN  \n",
            "1627                     NaN     1 November 2019 (USA)  \n",
            "1628                     NaN     TV Series (2011–2012)  \n",
            "\n",
            "[1629 rows x 18 columns]\n"
          ]
        }
      ],
      "source": [
        "data=pd.read_csv('movies.csv')\n",
        "frame=pd.DataFrame(data)\n",
        "print(frame)"
      ]
    },
    {
      "cell_type": "markdown",
      "metadata": {
        "id": "0wviNJca8pUQ"
      },
      "source": [
        "3. Load a CSV file (create a small sample if unavailable) into a DataFrame and print the first 5 rows.\n"
      ]
    },
    {
      "cell_type": "code",
      "execution_count": 22,
      "metadata": {},
      "outputs": [
        {
          "name": "stdout",
          "output_type": "stream",
          "text": [
            "                                  movie              lead\n",
            "0              Uri: The Surgical Strike     Vicky Kaushal\n",
            "1                         Battalion 609       Vicky Ahuja\n",
            "2  The Accidental Prime Minister (film)       Anupam Kher\n",
            "3                       Why Cheat India     Emraan Hashmi\n",
            "4                       Evening Shadows  Mona Ambegaonkar \n",
            "\n",
            "                       movie              lead\n",
            "1495  Hum Tumhare Hain Sanam    Shah Rukh Khan\n",
            "1496     Aankhen (2002 film)  Amitabh Bachchan\n",
            "1497         Saathiya (film)      Vivek Oberoi\n",
            "1498          Company (film)        Ajay Devgn\n",
            "1499    Awara Paagal Deewana      Akshay Kumar\n"
          ]
        }
      ],
      "source": [
        "data=pd.read_csv('bollywood.csv')\n",
        "frame=pd.DataFrame(data)\n",
        "print(frame.head(5),\"\\n\")\n",
        "print(frame.tail(5))"
      ]
    },
    {
      "cell_type": "markdown",
      "metadata": {
        "id": "HAlTFwFQ8pMA"
      },
      "source": [
        "## Task 2.2: Exploring Data\n"
      ]
    },
    {
      "cell_type": "markdown",
      "metadata": {
        "id": "QSgqkGvk8ovw"
      },
      "source": [
        "1. Print the shape, columns, and index of the DataFrame.\n"
      ]
    },
    {
      "cell_type": "code",
      "execution_count": 23,
      "metadata": {},
      "outputs": [
        {
          "name": "stdout",
          "output_type": "stream",
          "text": [
            "(1500, 2)\n",
            "Index(['movie', 'lead'], dtype='object')\n",
            "RangeIndex(start=0, stop=1500, step=1)\n",
            "3000\n"
          ]
        }
      ],
      "source": [
        "print(frame.shape)\n",
        "print(frame.columns)\n",
        "print(frame.index)\n",
        "print(frame.size)"
      ]
    },
    {
      "cell_type": "markdown",
      "metadata": {
        "id": "y9KNIL6c8onA"
      },
      "source": [
        "2. Use `.info()` and `.describe()` to explore the data.\n"
      ]
    },
    {
      "cell_type": "code",
      "execution_count": 24,
      "metadata": {},
      "outputs": [
        {
          "name": "stdout",
          "output_type": "stream",
          "text": [
            "<class 'pandas.core.frame.DataFrame'>\n",
            "RangeIndex: 1500 entries, 0 to 1499\n",
            "Data columns (total 2 columns):\n",
            " #   Column  Non-Null Count  Dtype \n",
            "---  ------  --------------  ----- \n",
            " 0   movie   1500 non-null   object\n",
            " 1   lead    1500 non-null   object\n",
            "dtypes: object(2)\n",
            "memory usage: 23.6+ KB\n",
            "None\n",
            "\n",
            "=======================\n",
            "\n",
            "                 movie          lead\n",
            "count             1500          1500\n",
            "unique            1497           566\n",
            "top     Gabbar Is Back  Akshay Kumar\n",
            "freq                 2            48\n",
            "\n",
            "=======================\n",
            "\n",
            "0          Vicky Kaushal\n",
            "1            Vicky Ahuja\n",
            "2            Anupam Kher\n",
            "3          Emraan Hashmi\n",
            "4       Mona Ambegaonkar\n",
            "              ...       \n",
            "1495      Shah Rukh Khan\n",
            "1496    Amitabh Bachchan\n",
            "1497        Vivek Oberoi\n",
            "1498          Ajay Devgn\n",
            "1499        Akshay Kumar\n",
            "Name: lead, Length: 1500, dtype: object\n"
          ]
        }
      ],
      "source": [
        "print(frame.info())\n",
        "print(\"\\n=======================\\n\")\n",
        "print(frame.describe())\n",
        "print(\"\\n=======================\\n\")\n",
        "print(frame.lead)"
      ]
    },
    {
      "cell_type": "code",
      "execution_count": 25,
      "metadata": {},
      "outputs": [
        {
          "name": "stdout",
          "output_type": "stream",
          "text": [
            "Requirement already satisfied: pandas in f:\\github_desktop\\pandas\\pandas_env\\lib\\site-packages (2.2.3)\n",
            "Requirement already satisfied: matplotlib in f:\\github_desktop\\pandas\\pandas_env\\lib\\site-packages (3.10.0)\n",
            "Requirement already satisfied: numpy>=1.26.0 in f:\\github_desktop\\pandas\\pandas_env\\lib\\site-packages (from pandas) (2.2.3)\n",
            "Requirement already satisfied: python-dateutil>=2.8.2 in f:\\github_desktop\\pandas\\pandas_env\\lib\\site-packages (from pandas) (2.9.0.post0)\n",
            "Requirement already satisfied: pytz>=2020.1 in f:\\github_desktop\\pandas\\pandas_env\\lib\\site-packages (from pandas) (2025.1)\n",
            "Requirement already satisfied: tzdata>=2022.7 in f:\\github_desktop\\pandas\\pandas_env\\lib\\site-packages (from pandas) (2025.1)\n",
            "Requirement already satisfied: contourpy>=1.0.1 in f:\\github_desktop\\pandas\\pandas_env\\lib\\site-packages (from matplotlib) (1.3.1)\n",
            "Requirement already satisfied: cycler>=0.10 in f:\\github_desktop\\pandas\\pandas_env\\lib\\site-packages (from matplotlib) (0.12.1)\n",
            "Requirement already satisfied: fonttools>=4.22.0 in f:\\github_desktop\\pandas\\pandas_env\\lib\\site-packages (from matplotlib) (4.56.0)\n",
            "Requirement already satisfied: kiwisolver>=1.3.1 in f:\\github_desktop\\pandas\\pandas_env\\lib\\site-packages (from matplotlib) (1.4.8)\n",
            "Requirement already satisfied: packaging>=20.0 in f:\\github_desktop\\pandas\\pandas_env\\lib\\site-packages (from matplotlib) (24.2)\n",
            "Requirement already satisfied: pillow>=8 in f:\\github_desktop\\pandas\\pandas_env\\lib\\site-packages (from matplotlib) (11.1.0)\n",
            "Requirement already satisfied: pyparsing>=2.3.1 in f:\\github_desktop\\pandas\\pandas_env\\lib\\site-packages (from matplotlib) (3.2.1)\n",
            "Requirement already satisfied: six>=1.5 in f:\\github_desktop\\pandas\\pandas_env\\lib\\site-packages (from python-dateutil>=2.8.2->pandas) (1.17.0)\n",
            "Note: you may need to restart the kernel to use updated packages.\n"
          ]
        },
        {
          "name": "stderr",
          "output_type": "stream",
          "text": [
            "\n",
            "[notice] A new release of pip is available: 24.3.1 -> 25.0.1\n",
            "[notice] To update, run: python.exe -m pip install --upgrade pip\n"
          ]
        }
      ],
      "source": [
        "%pip install pandas matplotlib"
      ]
    },
    {
      "cell_type": "code",
      "execution_count": 26,
      "metadata": {},
      "outputs": [
        {
          "data": {
            "text/plain": [
              "<Axes: xlabel='lead'>"
            ]
          },
          "execution_count": 26,
          "metadata": {},
          "output_type": "execute_result"
        },
        {
          "data": {
            "image/png": "[encoded data removed]",
            "text/plain": [
              "<Figure size 640x480 with 1 Axes>"
            ]
          },
          "metadata": {},
          "output_type": "display_data"
        }
      ],
      "source": [
        "\n",
        "data['lead'].value_counts().head(20).plot(kind='bar')"
      ]
    },
    {
      "cell_type": "markdown",
      "metadata": {
        "id": "sCgGtNc38oYx"
      },
      "source": [
        "3. Display specific rows and columns using `iloc` and `loc`.\n"
      ]
    },
    {
      "cell_type": "code",
      "execution_count": 32,
      "metadata": {},
      "outputs": [
        {
          "name": "stdout",
          "output_type": "stream",
          "text": [
            "0                   Uri: The Surgical Strike\n",
            "1                              Battalion 609\n",
            "2       The Accidental Prime Minister (film)\n",
            "3                            Why Cheat India\n",
            "4                            Evening Shadows\n",
            "                        ...                 \n",
            "1495                  Hum Tumhare Hain Sanam\n",
            "1496                     Aankhen (2002 film)\n",
            "1497                         Saathiya (film)\n",
            "1498                          Company (film)\n",
            "1499                    Awara Paagal Deewana\n",
            "Name: movie, Length: 1500, dtype: object\n",
            "==================\n",
            "movie    Uri: The Surgical Strike\n",
            "lead                Vicky Kaushal\n",
            "Name: 0, dtype: object\n"
          ]
        }
      ],
      "source": [
        "print(pd.Series(frame.iloc[:,0]))\n",
        "print(\"==================\")\n",
        "print(pd.Series(frame.loc[0]))"
      ]
    },
    {
      "cell_type": "markdown",
      "metadata": {
        "id": "rX2Tv1DM85vA"
      },
      "source": [
        "# Task 3: DataFrame Operations\n"
      ]
    },
    {
      "cell_type": "markdown",
      "metadata": {
        "id": "TKlAJtHF9AoF"
      },
      "source": [
        "## Task 3.1: Basic Operations\n"
      ]
    },
    {
      "cell_type": "markdown",
      "metadata": {
        "id": "MvXSCsDo9Acg"
      },
      "source": [
        "1. Add a new column to the DataFrame based on a mathematical operation on existing columns.\n"
      ]
    },
    {
      "cell_type": "markdown",
      "metadata": {
        "id": "alnlHxSu9ARY"
      },
      "source": [
        "2. Rename columns in the DataFrame.\n"
      ]
    },
    {
      "cell_type": "markdown",
      "metadata": {
        "id": "Gjyh3O7Z9AGo"
      },
      "source": [
        "3. Drop a specific row and column from the DataFrame.\n"
      ]
    },
    {
      "cell_type": "markdown",
      "metadata": {
        "id": "QNkES8Rv9sMI"
      },
      "source": [
        "4. Create a DataFrame using a Python dictionary."
      ]
    },
    {
      "cell_type": "code",
      "execution_count": null,
      "metadata": {
        "id": "lMPX7Q4c9v-c"
      },
      "outputs": [],
      "source": []
    },
    {
      "cell_type": "markdown",
      "metadata": {
        "id": "NTcOwdMI9z6h"
      },
      "source": [
        "# Task 4: Save and Export\n"
      ]
    },
    {
      "cell_type": "markdown",
      "metadata": {
        "id": "rjLlXZI-93d4"
      },
      "source": [
        "1. Save the DataFrame to a CSV file."
      ]
    },
    {
      "cell_type": "markdown",
      "metadata": {
        "id": "tgwboAQV96G5"
      },
      "source": [
        "2. Save the DataFrame to an Excel file with a specific sheet name.\n"
      ]
    }
  ],
  "metadata": {
    "colab": {
      "collapsed_sections": [
        "6pKMq6H48CNK",
        "KHdEn2eL8ji4",
        "rX2Tv1DM85vA",
        "NTcOwdMI9z6h"
      ],
      "provenance": []
    },
    "kernelspec": {
      "display_name": "pandas_env",
      "language": "python",
      "name": "python3"
    },
    "language_info": {
      "codemirror_mode": {
        "name": "ipython",
        "version": 3
      },
      "file_extension": ".py",
      "mimetype": "text/x-python",
      "name": "python",
      "nbconvert_exporter": "python",
      "pygments_lexer": "ipython3",
      "version": "3.13.1"
    }
  },
  "nbformat": 4,
  "nbformat_minor": 0
}
