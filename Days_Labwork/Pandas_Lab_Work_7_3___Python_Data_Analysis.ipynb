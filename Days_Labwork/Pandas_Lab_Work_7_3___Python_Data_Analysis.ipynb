{
  "cells": [
    {
      "cell_type": "markdown",
      "id": "6841e437",
      "metadata": {
        "id": "6841e437"
      },
      "source": [
        "## Pivoting"
      ]
    },
    {
      "cell_type": "markdown",
      "id": "c6b293ed",
      "metadata": {
        "id": "c6b293ed"
      },
      "source": [
        "1. Create a DataFrame containing sales data for a store with columns: 'Date', 'Category', 'Sales'. Pivot the DataFrame to show the total sales for each category by date."
      ]
    },
    {
      "cell_type": "markdown",
      "id": "a00344c2",
      "metadata": {
        "id": "a00344c2"
      },
      "source": [
        "2. Create a DataFrame with columns: 'Region', 'Product', 'Revenue'. Pivot the DataFrame to calculate the average revenue for each product in different regions."
      ]
    },
    {
      "cell_type": "markdown",
      "id": "9d4d68d3",
      "metadata": {
        "id": "9d4d68d3"
      },
      "source": [
        "3. Using a given DataFrame, pivot the data to display the count of items sold based on 'Store' and 'Year'."
      ]
    },
    {
      "cell_type": "markdown",
      "id": "bdccf8e9",
      "metadata": {
        "id": "bdccf8e9"
      },
      "source": [
        "## Sorting & Aggregation"
      ]
    },
    {
      "cell_type": "markdown",
      "id": "c30aa433",
      "metadata": {
        "id": "c30aa433"
      },
      "source": [
        "4. Create a DataFrame with columns: 'Name', 'Age', 'Score'. Sort the DataFrame by 'Score' in descending order."
      ]
    },
    {
      "cell_type": "markdown",
      "id": "8e8e9483",
      "metadata": {
        "id": "8e8e9483"
      },
      "source": [
        "5. Create a DataFrame of students' marks across subjects. Use aggregation functions like `mean`, `sum`, and `max` to summarize marks by student names."
      ]
    },
    {
      "cell_type": "markdown",
      "id": "bd3a9d3e",
      "metadata": {
        "id": "bd3a9d3e"
      },
      "source": [
        "6. Given a DataFrame of employee details (Name, Department, Salary), sort the DataFrame by department, then by salary within each department."
      ]
    },
    {
      "cell_type": "markdown",
      "id": "b27612f3",
      "metadata": {
        "id": "b27612f3"
      },
      "source": [
        "## Re-Indexing & Altering Labels"
      ]
    },
    {
      "cell_type": "markdown",
      "id": "13e55426",
      "metadata": {
        "id": "13e55426"
      },
      "source": [
        "7. Create a DataFrame with default indexing. Re-index the DataFrame to have a custom index (e.g., 'A', 'B', 'C')."
      ]
    },
    {
      "cell_type": "markdown",
      "id": "9018e46a",
      "metadata": {
        "id": "9018e46a"
      },
      "source": [
        "8. Create a DataFrame and demonstrate the use of `reset_index()` to reset to default indices."
      ]
    },
    {
      "cell_type": "markdown",
      "id": "ed098169",
      "metadata": {
        "id": "ed098169"
      },
      "source": [
        "9. Given a DataFrame, alter the column labels to uppercase and the row indices to start from 100."
      ]
    },
    {
      "cell_type": "markdown",
      "id": "90341171",
      "metadata": {
        "id": "90341171"
      },
      "source": [
        "## Groupby() & Transform()"
      ]
    },
    {
      "cell_type": "markdown",
      "id": "679e076e",
      "metadata": {
        "id": "679e076e"
      },
      "source": [
        "10. Create a DataFrame with columns: 'Department', 'Employee', 'Salary'. Group the data by 'Department' and calculate the average salary for each department."
      ]
    },
    {
      "cell_type": "code",
      "execution_count": 10,
      "id": "a11b0c4f",
      "metadata": {},
      "outputs": [
        {
          "name": "stdout",
          "output_type": "stream",
          "text": [
            "                 Employee  Salary\n",
            "Department                       \n",
            "Finance       Emily Davis   80000\n",
            "HR               John Doe   50000\n",
            "IT             Jane Smith   75000\n",
            "Marketing   Michael Brown   60000\n",
            "=======================\n",
            "Department\n",
            "Finance      80000.0\n",
            "HR           50000.0\n",
            "IT           75000.0\n",
            "Marketing    60000.0\n",
            "Name: Salary, dtype: float64\n"
          ]
        }
      ],
      "source": [
        "import pandas as pd\n",
        "\n",
        "data = {\n",
        "    \"Department\": [\"HR\", \"IT\", \"Finance\", \"Marketing\"],\n",
        "    \"Employee\": [\"John Doe\", \"Jane Smith\", \"Emily Davis\", \"Michael Brown\"],\n",
        "    \"Salary\": [50000, 75000, 80000, 60000]\n",
        "}\n",
        "\n",
        "df = pd.DataFrame(data)\n",
        "# print(df.to_string())\n",
        "\n",
        "dep=df.groupby('Department')\n",
        "print(dep.sum())\n",
        "print(\"=======================\")\n",
        "avg_salary=df.groupby('Department')['Salary'].mean()\n",
        "print(avg_salary)"
      ]
    },
    {
      "cell_type": "markdown",
      "id": "6f3bac62",
      "metadata": {
        "id": "6f3bac62"
      },
      "source": [
        "11. Create a DataFrame with sales data (Store, Item, Sales). Group the data by 'Item' and use `transform()` to calculate the percentage contribution of each sale."
      ]
    },
    {
      "cell_type": "code",
      "execution_count": 15,
      "id": "b1102d6e",
      "metadata": {},
      "outputs": [
        {
          "name": "stdout",
          "output_type": "stream",
          "text": [
            "0     46.875\n",
            "1    100.000\n",
            "2    100.000\n",
            "3    100.000\n",
            "4     53.125\n",
            "Name: Sales_Percentage, dtype: float64\n"
          ]
        }
      ],
      "source": [
        "import pandas as pd\n",
        "\n",
        "data = {\n",
        "    'Store': ['Store A', 'Store B', 'Store A', 'Store C', 'Store B'],\n",
        "    'Item': ['Apples', 'Bananas', 'Oranges', 'Grapes', 'Apples'],\n",
        "    'Sales': [150, 200, 180, 220, 170]\n",
        "}\n",
        "\n",
        "df = pd.DataFrame(data)\n",
        "\n",
        "df['Sales_Percentage']=df['Sales'] / df.groupby('Item')['Sales'].transform('sum') * 100\n",
        "print(df['Sales_Percentage'] )"
      ]
    },
    {
      "cell_type": "markdown",
      "id": "cec28716",
      "metadata": {
        "id": "cec28716"
      },
      "source": [
        "12. Given a DataFrame of student marks, group the data by 'Subject' and use `transform()` to normalize the marks within each subject."
      ]
    },
    {
      "cell_type": "code",
      "execution_count": 38,
      "id": "9256e241",
      "metadata": {},
      "outputs": [
        {
          "name": "stdout",
          "output_type": "stream",
          "text": [
            "   Student_ID     Name   Subject  Marks  Normalize_marks\n",
            "0         101    Alice      Math     85              NaN\n",
            "1         102      Bob  Gujarati     78              NaN\n",
            "2         103  Charlie   Science     92              NaN\n",
            "3         104    David   Biology     88              NaN\n",
            "4         105      Eva   English     76              NaN\n",
            "5         106    Frank       Iks     81              NaN\n"
          ]
        }
      ],
      "source": [
        "import pandas as pd\n",
        "\n",
        "\n",
        "student_marks = {\n",
        "    'Student_ID': [101, 102, 103, 104, 105, 106],\n",
        "    'Name': ['Alice', 'Bob', 'Charlie', 'David', 'Eva', 'Frank'],\n",
        "    'Subject': ['Math', 'Gujarati', 'Science', 'Biology', 'English', 'Iks'],\n",
        "    'Marks': [85, 78, 92, 88, 76, 81]\n",
        "}\n",
        "\n",
        "df = pd.DataFrame(student_marks)\n",
        "\n",
        "df['Normalize_marks']=df.groupby('Subject')['Marks'].transform(lambda x: (x - x.min()) / (x.max()-x.min()))\n",
        "print(df)"
      ]
    },
    {
      "cell_type": "code",
      "execution_count": 37,
      "id": "1f51d2c0",
      "metadata": {},
      "outputs": [
        {
          "name": "stdout",
          "output_type": "stream",
          "text": [
            "   Student_ID     Name  Subject  Marks  Normalized_Marks\n",
            "0         101    Alice     Math     85          0.411765\n",
            "1         102      Bob     Math     78          0.000000\n",
            "2         103  Charlie  Science     92          1.000000\n",
            "3         104    David  Science     88          0.000000\n",
            "4         105      Eva  English     76          0.000000\n",
            "5         106    Frank  English     81          1.000000\n",
            "6         107    Grace     Math     95          1.000000\n",
            "7         108    Helen  Science     89          0.250000\n"
          ]
        }
      ],
      "source": [
        "import pandas as pd\n",
        "\n",
        "# Sample student marks data\n",
        "student_marks = {\n",
        "    'Student_ID': [101, 102, 103, 104, 105, 106, 107, 108],\n",
        "    'Name': ['Alice', 'Bob', 'Charlie', 'David', 'Eva', 'Frank', 'Grace', 'Helen'],\n",
        "    'Subject': ['Math', 'Math', 'Science', 'Science', 'English', 'English', 'Math', 'Science'],\n",
        "    'Marks': [85, 78, 92, 88, 76, 81, 95, 89]\n",
        "}\n",
        "\n",
        "# Convert dictionary to DataFrame\n",
        "df = pd.DataFrame(student_marks)\n",
        "\n",
        "# Normalize Marks within each Subject (Min-Max Scaling)\n",
        "df['Normalized_Marks'] = df.groupby('Subject')['Marks'].transform(lambda x: (x - x.min()) / (x.max() - x.min()))\n",
        "\n",
        "# Display the updated DataFrame\n",
        "print(df)\n"
      ]
    },
    {
      "cell_type": "code",
      "execution_count": null,
      "id": "a5e745c6",
      "metadata": {},
      "outputs": [],
      "source": []
    }
  ],
  "metadata": {
    "colab": {
      "provenance": []
    },
    "kernelspec": {
      "display_name": "pandas_env",
      "language": "python",
      "name": "python3"
    },
    "language_info": {
      "codemirror_mode": {
        "name": "ipython",
        "version": 3
      },
      "file_extension": ".py",
      "mimetype": "text/x-python",
      "name": "python",
      "nbconvert_exporter": "python",
      "pygments_lexer": "ipython3",
      "version": "3.13.1"
    }
  },
  "nbformat": 4,
  "nbformat_minor": 5
}
