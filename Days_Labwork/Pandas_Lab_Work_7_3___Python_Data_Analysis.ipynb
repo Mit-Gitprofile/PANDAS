{
  "cells": [
    {
      "cell_type": "markdown",
      "id": "6841e437",
      "metadata": {
        "id": "6841e437"
      },
      "source": [
        "## Pivoting"
      ]
    },
    {
      "cell_type": "markdown",
      "id": "c6b293ed",
      "metadata": {
        "id": "c6b293ed"
      },
      "source": [
        "1. Create a DataFrame containing sales data for a store with columns: 'Date', 'Category', 'Sales'. Pivot the DataFrame to show the total sales for each category by date."
      ]
    },
    {
      "cell_type": "markdown",
      "id": "a00344c2",
      "metadata": {
        "id": "a00344c2"
      },
      "source": [
        "2. Create a DataFrame with columns: 'Region', 'Product', 'Revenue'. Pivot the DataFrame to calculate the average revenue for each product in different regions."
      ]
    },
    {
      "cell_type": "markdown",
      "id": "9d4d68d3",
      "metadata": {
        "id": "9d4d68d3"
      },
      "source": [
        "3. Using a given DataFrame, pivot the data to display the count of items sold based on 'Store' and 'Year'."
      ]
    },
    {
      "cell_type": "markdown",
      "id": "bdccf8e9",
      "metadata": {
        "id": "bdccf8e9"
      },
      "source": [
        "## Sorting & Aggregation"
      ]
    },
    {
      "cell_type": "markdown",
      "id": "c30aa433",
      "metadata": {
        "id": "c30aa433"
      },
      "source": [
        "4. Create a DataFrame with columns: 'Name', 'Age', 'Score'. Sort the DataFrame by 'Score' in descending order."
      ]
    },
    {
      "cell_type": "markdown",
      "id": "8e8e9483",
      "metadata": {
        "id": "8e8e9483"
      },
      "source": [
        "5. Create a DataFrame of students' marks across subjects. Use aggregation functions like `mean`, `sum`, and `max` to summarize marks by student names."
      ]
    },
    {
      "cell_type": "markdown",
      "id": "bd3a9d3e",
      "metadata": {
        "id": "bd3a9d3e"
      },
      "source": [
        "6. Given a DataFrame of employee details (Name, Department, Salary), sort the DataFrame by department, then by salary within each department."
      ]
    },
    {
      "cell_type": "markdown",
      "id": "b27612f3",
      "metadata": {
        "id": "b27612f3"
      },
      "source": [
        "## Re-Indexing & Altering Labels"
      ]
    },
    {
      "cell_type": "markdown",
      "id": "13e55426",
      "metadata": {
        "id": "13e55426"
      },
      "source": [
        "7. Create a DataFrame with default indexing. Re-index the DataFrame to have a custom index (e.g., 'A', 'B', 'C')."
      ]
    },
    {
      "cell_type": "markdown",
      "id": "9018e46a",
      "metadata": {
        "id": "9018e46a"
      },
      "source": [
        "8. Create a DataFrame and demonstrate the use of `reset_index()` to reset to default indices."
      ]
    },
    {
      "cell_type": "markdown",
      "id": "ed098169",
      "metadata": {
        "id": "ed098169"
      },
      "source": [
        "9. Given a DataFrame, alter the column labels to uppercase and the row indices to start from 100."
      ]
    },
    {
      "cell_type": "markdown",
      "id": "90341171",
      "metadata": {
        "id": "90341171"
      },
      "source": [
        "## Groupby() & Transform()"
      ]
    },
    {
      "cell_type": "markdown",
      "id": "679e076e",
      "metadata": {
        "id": "679e076e"
      },
      "source": [
        "10. Create a DataFrame with columns: 'Department', 'Employee', 'Salary'. Group the data by 'Department' and calculate the average salary for each department."
      ]
    },
    {
      "cell_type": "markdown",
      "id": "6f3bac62",
      "metadata": {
        "id": "6f3bac62"
      },
      "source": [
        "11. Create a DataFrame with sales data (Store, Item, Sales). Group the data by 'Item' and use `transform()` to calculate the percentage contribution of each sale."
      ]
    },
    {
      "cell_type": "markdown",
      "id": "cec28716",
      "metadata": {
        "id": "cec28716"
      },
      "source": [
        "12. Given a DataFrame of student marks, group the data by 'Subject' and use `transform()` to normalize the marks within each subject."
      ]
    }
  ],
  "metadata": {
    "colab": {
      "provenance": []
    },
    "language_info": {
      "name": "python"
    },
    "kernelspec": {
      "name": "python3",
      "display_name": "Python 3"
    }
  },
  "nbformat": 4,
  "nbformat_minor": 5
}